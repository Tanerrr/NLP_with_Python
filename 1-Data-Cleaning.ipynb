{
 "cells": [
  {
   "cell_type": "markdown",
   "metadata": {},
   "source": [
    "# 1- Data Cleaning"
   ]
  },
  {
   "cell_type": "markdown",
   "metadata": {},
   "source": [
    "## Introduction"
   ]
  },
  {
   "cell_type": "markdown",
   "metadata": {},
   "source": [
    "This Notebook starts with data cleaning, it is necessary step of any Data Science project. With dirty Data into a model can noone will have meaningful results. The data we give to our model should be cleared beforehand to get the best results.\n",
    "\n",
    "Specifically, we'll be walking through:\n",
    "\n",
    "1. **Getting the data - **manually find from different sources.\n",
    "2. **Cleaning the data - **we will walk through popular text pre-processing techniques\n",
    "3. **Organizing the data - **we will organize the cleaned data into a way that is easy to input into other algorithms\n",
    "\n",
    "The output of this notebook will be clean, organized data in two standard text formats:\n",
    "\n",
    "1. **Corpus** - a collection of text\n",
    "2. **Document-Term Matrix** - word counts in matrix format"
   ]
  },
  {
   "cell_type": "markdown",
   "metadata": {},
   "source": [
    "## Problem Statement"
   ]
  },
  {
   "cell_type": "markdown",
   "metadata": {},
   "source": [
    "The millennium was a period in which technology and democracy were expected to reach a certain level all over the world.\n",
    "\n",
    "But it is very difficult to say that all communities have the same level of prosperity and the benefits of democracy.\n",
    "\n",
    "In this work, I will analyze the words used in the speeches of the leaders of various countries."
   ]
  },
  {
   "cell_type": "markdown",
   "metadata": {},
   "source": [
    "Of course, this is a data science work. I will leave it to political scientists to discuss the results of this study."
   ]
  },
  {
   "cell_type": "markdown",
   "metadata": {},
   "source": [
    "## Getting The Data"
   ]
  },
  {
   "cell_type": "markdown",
   "metadata": {},
   "source": [
    "Unfortunately, there are no transcripts of leaders in a single source. I will analyze the English texts I copied from different sources."
   ]
  },
  {
   "cell_type": "code",
   "execution_count": 13,
   "metadata": {},
   "outputs": [],
   "source": [
    "import glob   # for iteration in Txt files.\n",
    "import re     # to get the names of presidents for making dataset from texts."
   ]
  },
  {
   "cell_type": "code",
   "execution_count": 17,
   "metadata": {},
   "outputs": [],
   "source": [
    "dict = {}\n",
    "pattern = r'raw_data/(\\w+)\\.*'\n",
    "\n",
    "for filename in glob.glob('raw_data/*.txt'):\n",
    "    leaders_name = re.search(pattern, filename)\n",
    "    with open(filename, 'r') as text:\n",
    "        text = text.read()\n",
    "        text = text.split()\n",
    "        text = text[:2000]  # In this way, the speech of all leaders will be reduced to an equal number of words.\n",
    "        cutted_text = ' '.join(text)\n",
    "        dict[leaders_name[1]] = cutted_text"
   ]
  },
  {
   "cell_type": "code",
   "execution_count": 18,
   "metadata": {
    "scrolled": true
   },
   "outputs": [
    {
     "data": {
      "text/plain": [
       "'Trudeau'"
      ]
     },
     "execution_count": 18,
     "metadata": {},
     "output_type": "execute_result"
    }
   ],
   "source": [
    "next(iter(dict.keys())) #For Example"
   ]
  },
  {
   "cell_type": "code",
   "execution_count": 19,
   "metadata": {},
   "outputs": [
    {
     "data": {
      "text/plain": [
       "\"Before I begin, it won’t surprise you that my remarks today will address the importance of progressive values in the context of globalization. On that note, today, I am pleased to announce that Canada and the ten other remaining members of the Trans-Pacific Partnership concluded discussions in Tokyo, Japan, on a new Comprehensive and Progressive Agreement for Trans-Pacific Partnership (CPTPP). The agreement reached in Tokyo today is the right deal. Our government stood up for Canadian interests and this agreement meets our objectives of creating and sustaining growth, prosperity and well-paying middle-class jobs today and for generations to come. We are pleased with the progress we have made to make this deal more progressive and stronger for Canadian workers on intellectual property, culture and the automotive sector\\u200e. Trade helps strengthen the middle class, but for it to work we must ensure that the benefits are shared with all our citizens, not just the few. The Comprehensive and Progressive Trans Pacific Partnership is a new step on that path. I would also like to personally thank \\u200ePrime Minister Abe for hosting the recent talks and for his leadership on reaching this positive outcome. Today is a great day for Canada and a great day for progressive trade. I was last here at the World Economic Forum in 2016, two months after being sworn in as Prime Minister. And while that might not seem like very long ago, in this new era of perpetual change that we’re living in, two years might as well be a lifetime. Think about it: The pace of change has never been this fast, yet it will never be this slow again. There’s enormous opportunity, and enormous potential, in that realization. Technology has always brought such promise – a better standard of living, new innovations, remarkable products. Consider that progression from steam power, to electricity, to computers. But it also brings dramatic shifts in our social, economic, and political cultures. This current step, involving automation and AI, as the obvious examples, will totally revolutionize the world of work – in many ways, they already have. As business leaders, I know you view these as both exciting and challenging advancements. You are rightly anxious about how quickly our existing business models are being disrupted. Still, if you’re anxious, imagine how the folks who aren’t in this room are feeling. Workers, people who aren’t seeing the benefits of economic growth, regular men and women who are trying to grab a rung on the career ladder (never mind climb it) – for them, technology is a benefit to their lives, but a threat to their jobs. Over the past few years, we’ve seen the ripple effects of economic uncertainty and inequality play out around the world. The unrest we’ve witnessed is driven by anxiety and fear. Fear of what a rapidly changing world means for workers and their families, and for those who are already struggling in the existing economy. And that fear – that anxiety – is valid. People have been taken advantage of, losing their jobs and their livelihoods. Governments and corporations – we haven’t done enough to address this. Over the past decades, citizens and workers have been calling for change, but too often, their pleas have been ignored. Too many politicians become disconnected – refusing to really listen, chasing short term wins over long term, meaningful solutions. And too many corporations have put the pursuit of profit before the wellbeing of their workers. The gap between the rich and the poor is staggering. All the while, companies avoid taxes and boast record profits with one hand, while slashing benefits with the other. But that approach can’t and won’t cut it anymore. We’re in a new age of doing business – you need to give back. You need to be part of the solution. And if you don’t believe me, take it from Larry Fink. In his most recent annual letter to CEOs, Larry writes: “Society is demanding that companies, both public and private, serve a social purpose. “To prosper over time, every company must not only deliver financial performance, but also show how it makes a positive contribution to society. “Companies must benefit all of their stakeholders, including shareholders, employees, customers, and the communities in which they operate.” Now, I understand that the burden of change falls heavy, and you cannot be expected to solve all the ills of the world. But sitting back and hoping some other corporation – or some other country –volunteers to take the lead on this will get us nowhere. We have to drive this change. Each and every one of us. Forums like this one are a great way to talk about how we can best work together to fulfill our duty to serve. We cannot neglect our responsibility to the people who matter most – to the people who aren’t here in Davos and never will be. Those are the people we’re working for. Those are the people who must be our priority. If we do nothing, and if we operate in the mindset of “business as usual”, the systems will break down, and we will all fail. We all know that to be competitive in the modern economy, change is imperative. And the grassroots desire for change is there – it always has been. But it’s on us to flip the switch. We know what needs to be done. It is well past time that we listen, learn, and finally, lead. Of course, this kind of profound, societal change can seem overwhelming, and lead us to wonder where even to begin. So I’d like to focus on a fundamental shift that every leader in this room can act on immediately. One that I have made a central tenet of my leadership. One that is core to this year’s Forum, thanks to the leadership of our seven extraordinary co-chairs. I’m talking about hiring, promoting, and retaining more women. And not just because it’s the right thing to do, or the nice thing to do, but because it’s the smart thing to do. In Canada, like all over the world, much of the economic and labour force growth we've experienced over the last many decades is because of women entering into – and changing – the workforce. But there is still so much room for improvement, and such enormous benefit to be had. McKinsey estimates that narrowing the gender gap in Canada could add $150 billion to our economy by 2026. Research tells us that organizations with women on their corporate boards and in key leadership positions perform better than those without. In fact, The Peterson Institute for International Economics found that increasing the share of women in leadership positions from 0% to 30% translates into a 15% boost to profitability. Recent estimates suggest that economic gender parity could add $1.75 trillion to the United States’ GDP. And in China? The GDP boost could be as much as $2.5 trillion – that’s bigger than the entire Canadian economy. Now, when we talk about getting more women into the workforce, the issue of pay equity comes up – and it should, it’s vitally important. In Canada, we’ll be moving forward this year with legislation to ensure equal pay for work of equal value at the federal level. But I’m sure there are a few of you in the audience who are thinking, “I already have equal pay policies in place. This doesn’t apply to me.” So while I commend your effort on this front, it may not be good enough. Our own government’s pay equity efforts, while important, are still just a first step. Because equal pay for women does not mean equal opportunity, or equal treatment, or equal sacrifice. Paying a female employee the same as a male employee doesn’t even begin to touch issues around family planning, promotions, or job security. Women do more part-time work, and more unpaid work, than men. How do we address that? When we dig a little deeper, when we peel back that outer layer, we see that there are a whole host of barriers facing women in the workplace. Removing these barriers will take effort, leadership, and a willingness to change the nature of work as we know it. Here’s where we need to start. It’s time to take a serious look at parental leave and child care policies. We should be encouraging women – and men – to make the best decision for their family situation. In Canada, we’ve given parents more options for parental leave, and invested billions in affordable, high quality child care. We also introduced a really successful child benefit program that gives middle- and low-income parents more money every month to help with the high costs of raising kids. And since the Canada Child Benefit gives more money to those who need it most, the financial impact on single mothers \\u200ehas been significant. Last year, nearly 90% of single mom's receiving the Canada Child Benefit earned less than $60,000 and received about $9,000 in total benefits, tax-free. And let’s be clear: helping those families has been a key driver of Canada’s recent economic growth. Companies should have a formal policy on gender diversity, and make the recruitment of women candidates a priority. You may remember that we introduced our country’s first gender-balanced Cabinet in 2015. The usual suspects complained. But guess what? Two years later, Chrystia Freeland and Maryam Monsef, who are here this week – along with their many female colleagues in Cabinet – are serving the country with great distinction, and have elevated the level of decision-making and debate for everyone in Cabinet and in government As corporate leaders, consider a gender-balanced board, or gender-balanced project teams. Anytime we’re looking for a new hire, we should be identifying women candidates at a rate equal to men. In Canada, when we look to fill appointments, we work to recruit people who reflect the true diversity of our country. And we have to recognize that aspects of intersectionality are always at play, and require special attention. Here’s an example: In 2016, among women who were newly appointed to the boards of Fortune 500 companies, 77% of them were white. Race, religion, sexuality, socioeconomic status – these are just a few of the ways that women are even further discriminated against. And finally, folks, here is a really big one: Me Too, Times Up, the Women’s March – these movements tell us that we need to have a critical discussion on women’s rights, equality, and the power dynamics of gender. Sexual harassment, for example – in business and in government – is a systemic problem and it is unacceptable. As leaders, we need to act to show that truly, time is up. We must each have a well-understood, established process in place to file allegations of workplace harassment. And when we receive those complaints, we must take them seriously. As women speak up, it is our responsibility to listen, and more importantly, to believe. Folks, treat these not as piecemeal alternatives to how things currently run. Treat these examples as a fundamental, essential shift in the way we operate. As governments and corporations, are entrusted with a platform and a voice. Let’s use them. Last year, with our neighbours in the US, we established the Canada-US Council for Advancement of Women Entrepreneurs and Business Leaders. The council just put out an important report – their first of five – focused on supporting and growing women-owned businesses. I’m pleased to announce that the co-chairs for the G7 Gender Equality Advisory Council will be Melinda Gates and Isabelle Hudon. Both of these women are global leaders in the advancement of gender equality and the empowerment of women and girls – and so will ensure that gender equality is a priority through everything the G7 does this year. 2018 will also see Canada hosting Fortune’s Most Powerful Women International summit, and 2019 will bring the Women Deliver Conference to Vancouver – the\""
      ]
     },
     "execution_count": 19,
     "metadata": {},
     "output_type": "execute_result"
    }
   ],
   "source": [
    "next(iter(dict.values()))"
   ]
  },
  {
   "cell_type": "markdown",
   "metadata": {},
   "source": [
    "### At this point we have a dictionary that has the names and speeches of the Presidents as key value pairs."
   ]
  },
  {
   "cell_type": "markdown",
   "metadata": {},
   "source": [
    "***"
   ]
  },
  {
   "cell_type": "markdown",
   "metadata": {},
   "source": [
    "### Now i want to have csv file from my dictionary, so i can save it as file and with pandas work on it ."
   ]
  },
  {
   "cell_type": "code",
   "execution_count": 20,
   "metadata": {},
   "outputs": [],
   "source": [
    "# We are going to change this to key: presidents, value: string format\n",
    "def combine_text(list_of_text):\n",
    "    '''Takes a list of text and combines them into one large chunk of text.'''\n",
    "    combined_text = ''.join(str(list_of_text))\n",
    "    return combined_text"
   ]
  },
  {
   "cell_type": "code",
   "execution_count": 21,
   "metadata": {},
   "outputs": [],
   "source": [
    "# Combine it!\n",
    "data_combined = {key: [combine_text(value)] for (key, value) in dict.items()}"
   ]
  },
  {
   "cell_type": "code",
   "execution_count": 22,
   "metadata": {},
   "outputs": [
    {
     "data": {
      "text/html": [
       "<div>\n",
       "<style scoped>\n",
       "    .dataframe tbody tr th:only-of-type {\n",
       "        vertical-align: middle;\n",
       "    }\n",
       "\n",
       "    .dataframe tbody tr th {\n",
       "        vertical-align: top;\n",
       "    }\n",
       "\n",
       "    .dataframe thead th {\n",
       "        text-align: right;\n",
       "    }\n",
       "</style>\n",
       "<table border=\"1\" class=\"dataframe\">\n",
       "  <thead>\n",
       "    <tr style=\"text-align: right;\">\n",
       "      <th></th>\n",
       "      <th>speeches</th>\n",
       "    </tr>\n",
       "  </thead>\n",
       "  <tbody>\n",
       "    <tr>\n",
       "      <th>Erdogan</th>\n",
       "      <td>I wholeheartedly greet our 81 provinces as well as sister and friendly capitals and cities of the world from Ankara, from the AK Party headquarter...</td>\n",
       "    </tr>\n",
       "    <tr>\n",
       "      <th>Macron</th>\n",
       "      <td>Dear friends, We are here for this General Assembly, with the Secretary-General having chosen what is such an important topic, the climate, and we...</td>\n",
       "    </tr>\n",
       "    <tr>\n",
       "      <th>Merkel</th>\n",
       "      <td>Ladies and gentlemen, Nearly 50 years ago, Walter Hallstein, the former German Commission President, referred to European integration as an “endea...</td>\n",
       "    </tr>\n",
       "    <tr>\n",
       "      <th>Nicolas_Maduro</th>\n",
       "      <td>Ambassadors, heads of delegations of the countries members of the United Nations Organization, President-elect of the General Assembly, Mrs. Maria...</td>\n",
       "    </tr>\n",
       "    <tr>\n",
       "      <th>Obama</th>\n",
       "      <td>My fellow citizens: I stand here today humbled by the task before us, grateful for the trust you have bestowed, mindful of the sacrifices borne by...</td>\n",
       "    </tr>\n",
       "    <tr>\n",
       "      <th>Putin</th>\n",
       "      <td>Citizens of Russia, members of the Federation Council and State Duma, Today's Address is a very special landmark event, just as the times we are l...</td>\n",
       "    </tr>\n",
       "    <tr>\n",
       "      <th>Trudeau</th>\n",
       "      <td>Before I begin, it won’t surprise you that my remarks today will address the importance of progressive values in the context of globalization. On ...</td>\n",
       "    </tr>\n",
       "    <tr>\n",
       "      <th>Trump</th>\n",
       "      <td>\"Madam Speaker, Mr. Vice President, Members of Congress, the First Lady of the United States, and my fellow Americans: We meet tonight at a moment...</td>\n",
       "    </tr>\n",
       "    <tr>\n",
       "      <th>Xi_Jinping</th>\n",
       "      <td>Ladies and Gentlemen, Friends, September has just set in Beijing, bringing with it refreshing breeze and picturesque autumn scenery. And we are so...</td>\n",
       "    </tr>\n",
       "    <tr>\n",
       "      <th>Yoshihide_Suga</th>\n",
       "      <td>I am truly delighted to meet you all, students of the Vietnam-Japan University (VJU), which is a symbol of human resource development projects bet...</td>\n",
       "    </tr>\n",
       "  </tbody>\n",
       "</table>\n",
       "</div>"
      ],
      "text/plain": [
       "                                                                                                                                                             speeches\n",
       "Erdogan         I wholeheartedly greet our 81 provinces as well as sister and friendly capitals and cities of the world from Ankara, from the AK Party headquarter...\n",
       "Macron          Dear friends, We are here for this General Assembly, with the Secretary-General having chosen what is such an important topic, the climate, and we...\n",
       "Merkel          Ladies and gentlemen, Nearly 50 years ago, Walter Hallstein, the former German Commission President, referred to European integration as an “endea...\n",
       "Nicolas_Maduro  Ambassadors, heads of delegations of the countries members of the United Nations Organization, President-elect of the General Assembly, Mrs. Maria...\n",
       "Obama           My fellow citizens: I stand here today humbled by the task before us, grateful for the trust you have bestowed, mindful of the sacrifices borne by...\n",
       "Putin           Citizens of Russia, members of the Federation Council and State Duma, Today's Address is a very special landmark event, just as the times we are l...\n",
       "Trudeau         Before I begin, it won’t surprise you that my remarks today will address the importance of progressive values in the context of globalization. On ...\n",
       "Trump           \"Madam Speaker, Mr. Vice President, Members of Congress, the First Lady of the United States, and my fellow Americans: We meet tonight at a moment...\n",
       "Xi_Jinping      Ladies and Gentlemen, Friends, September has just set in Beijing, bringing with it refreshing breeze and picturesque autumn scenery. And we are so...\n",
       "Yoshihide_Suga  I am truly delighted to meet you all, students of the Vietnam-Japan University (VJU), which is a symbol of human resource development projects bet..."
      ]
     },
     "execution_count": 22,
     "metadata": {},
     "output_type": "execute_result"
    }
   ],
   "source": [
    "# We can either keep it in dictionary format or put it into a pandas dataframe\n",
    "import pandas as pd\n",
    "pd.set_option('max_colwidth',150)\n",
    "\n",
    "data = pd.DataFrame.from_dict(data_combined).transpose()\n",
    "data.columns = ['speeches']\n",
    "data = data.sort_index()\n",
    "data"
   ]
  },
  {
   "cell_type": "code",
   "execution_count": 23,
   "metadata": {},
   "outputs": [
    {
     "data": {
      "text/plain": [
       "'Ladies and gentlemen, Nearly 50 years ago, Walter Hallstein, the former German Commission President, referred to European integration as an “endeavour of unparalleled boldness”. The year was 1969, ten years before the first direct European elections took place. At the time, the European Community was still in its infancy. Many of our greatest accomplishments – Schengen, the single market and a single currency – were still mere visions. But the foundation had been laid. And with that, after centuries marked by wars and dictatorships, the citizens of Europe for the first time held out hope for a sustainable, peaceful and stable future. Today, I am pleased and grateful to be standing in front of the largest democratic parliament in the world. Together, you – 751 Members, elected in 28 member states – represent more than 500 million people. That is nearly seven percent of the world’s population. In your House, we can feel the heart of European democracy beating. The debates, which are held in 24 languages, are a sign of this. Your House also stands for another aspect of Europe, namely diversity. It is one of our great strengths as Europeans that we – time and again, and despite our diversity – have allowed ourselves to be guided by a willingness to compromise. Despite our different origins and opinions, we have so far always managed to arrive at solutions that benefit the community as a whole. More than eleven years have passed since I first addressed this House. At the time, in 2007, Germany had assumed the Presidency of the Council of the European Union. In that speech, I spoke about diversity as a unifying, rather than dividing, factor, about freedom that constantly needs to be defended anew, and about Europe needing freedom the same way that people need air to breathe. I also talked about a fundamental value that characterises Europe – a value that brings freedom and diversity together in Europe. I spoke about tolerance. I spoke about how tolerance is the soul of Europe, about how it is an essential, fundamental value that defines European idea. Over the past eleven years, we have also seen how much the world has changed – how, if you will, Europe’s soul has been put to the test. Global political, economic and technological challenges are developing at an ever greater pace, and they are becoming more and more profound. We have lived through a great public debt crisis. The European Union has not been spared the scourge of international terrorism. Wars and armed conflict are taking place only a few hours by plane beyond our doorstep. Global refugee and migration flows are also having a direct impact on us Europeans. The advance of digital technology is changing our way of life at breakneck speed. We are feeling the effects of climate change. Old allies are calling tried and proven alliances into question. The United Kingdom will be the first country to exit the European Union. These days are marked by intensive negotiations, and we more than ever are getting a sense of how deep that impact will be. – I want to express my heartfelt thanks to Michel Barnier for his work. Members of this esteemed House – why am I saying this? We all realise that predicting developments has become more difficult. But we also realise something else. The likelihood that interests can be asserted at global level by a single actor is steadily decreasing. Vice versa, this means it is becoming ever more important for us Europeans to take a united stance. For this, everyone in the European Union must now more than ever show respect for others and their interests. We must now more than ever have a common understanding that tolerance is the soul of Europe, that it is a key part of what makes us European, and that only through tolerance can we develop a willingness to consider, and fully identify with, the needs and interests of others. This will help us forge true European solidarity, without which successful action is impossible. This solidarity is built on tolerance. It is the basis of our strength as Europeans. A strength that is unique in the world, for three reasons: Firstly, solidarity is a universal value. Standing up for one another is an essential prerequisite for every functioning society. This holds true for families, villages and sports associations, as it does for a community such as the European Union. Solidarity is a fundamental component of the European treaties. It is an indispensable part of our system of values. Solidarity is encoded in our European DNA. We support countries and regions, by promoting their economic development or assisting efforts to combat youth unemployment. We help one another when natural disasters strike. When terrorist attacks or nuclear accidents occur, we stand by one another. During the European public debt crisis, we put together so-called rescue packages to help countries solve their economic and financial problems. These few examples already show that the individual EU member states, and thereby also the citizens of the European Union, are not left in the lurch during tough times and crises. However, these few examples also show that national decisions always also have an effect on the entire community. Therefore, secondly, solidarity always means that everyone must bear responsibility for the community as a whole. Specifically, this means anyone who undermines rule-of-law principles in their own country, or who curtails rights of the opposition and civil society and restricts the freedom of the press, thereby jeopardises the rule of law not only in his or her own country, but for everyone in Europe. Europe as a community of law can of course only function when the law applies – and is respected – equally everywhere. Anyone who seeks to solve problems only by taking on new debt, or who ignores binding obligations, also calls into question the foundation of a strong and stable euro area. That is because our single currency can only function if every single member meets national obligations for sustainable finances. Anyone who undermines a unified European stance when interacting with third parties – regarding, for example, agreed sanctions or questions related to human rights – also undermines the credibility of European foreign policy as a whole. Because Europe will only make its voice heard in the world if it stands united. This means that showing solidarity always requires overcoming national egotisms. I am well aware that Germany has not always behaved well, and that at times others take issue with its behaviour. For example, in the years before 2015, it took us far too long, also in Germany, to accept that the refugee issue concerns all EU member states, and that it must be dealt with through a pan-European approach. From this it follows, thirdly, that solidarity that benefits all, also ultimately and rightly understood, means solidarity that is in everyone’s own best interest. Respecting and supporting others, on the one hand, and pursuing one’s own interests, on the other hand, are not contradictory. Quite the opposite is true. One example is our cooperation with African countries of origin in the sphere of refugees and migration. – The President addressed this just a moment ago. – This cooperation helps Europe, because it establishes more orderly, controlled and reduced movements of refugees and migrants to Europe. At the same time, it helps people in the countries of origin by improving their living conditions. We can also prevent them from embarking on what is often a perilous journey to Europe. Another example is Europe’s commitment to worldwide climate protection. These efforts are an ecological and social necessity for protecting the resources on which life depends – also for everyone here in Europe. Europe benefits when industrialised and newly industrialising countries produce less greenhouse gasses, and when all of our economies become greener. What is more, all Europeans benefit when the euro area, too, develops harmoniously, becoming a haven of strength and stability. All Europeans benefit when everyone joins in European civil protection efforts. All Europeans benefit when we help those who are most severely affected by displacement and migration. It is a matter of tolerance that we respect the different reactions in the various member states when it comes to the question of taking in refugees – because each member state has its own history and demographic development. However, it is a matter of solidarity that we do everything in our power to find a common approach for tackling this and other challenges as a community. These are hallmarks of Europe: solidarity as a universal, fundamental value; solidarity as a responsibility for the community; and solidarity in terms of one’s own rational interest. Ladies and gentlemen, unity and common resolve are essential if Europe is to succeed. I therefore want to highlight three spheres that I think should be at the top of our agenda. Firstly, there is our foreign and security policy. We already now realise that we Europeans are much better able to defend our interests whenever we act in concert. Only by taking a united stance will Europe be strong enough to make its voice heard in the global arena and defend its values and interests. It’s simply true that the times when we could fully rely on others have ended. This means nothing other than that, if we Europeans want to survive as a community, we must make a greater effort to take our destiny into our own hands. This means that, in the long term, Europe must become more capable of taking foreign policy action. We must therefore be ready to rethink our decision-making processes, also by lifting the unanimity requirement wherever possible – that is, in areas where this is permitted by the treaties. I have proposed that we establish a European Security Council with rotating member state membership, in which important decisions could be more swiftly prepared. We need to create a fully capable, European military force for rapid deployment to affected regions in times of crisis. We have made great progress on permanent structured cooperation in the military domain. That is a good thing, and these efforts have received wide support here. Yet – and I say this very deliberately in view of the developments in recent years – we ought to work on the vision of one day establishing a proper European army. Yes, that’s how things stand. Four years ago, Jean-Claude Juncker said: a joint EU army would show the world that there would never again be a war between EU countries. That would not be an army in competition with NATO – don’t misunderstand me – but it could be an effective complement to NATO. Nobody wants to call traditional alliances into question. But, ladies and gentlemen, it would then be much easier to cooperate with us. When, as is the case at the moment, we have more than 160 defence or weapons systems and the United States has only 50 or 60, when each country needs its own administration, support and training for everything, we are not an efficient partner. If we want to use our financial resources efficiently and are pursuing many of the same objectives, nothing speaks against us being colllectively represented in NATO with a European army. I don’t see any contradiction there at all. That would then also involve ... (heckling from the floor) – I welcome that response. That doesn’t bother me. I’m used to parliament. – That, incidentally, would also involve the joint development of weapons systems within Europe. And it would also involve – this is a difficult task, also for the Federal Republic of Germany – developing a joint arms export policy, because otherwise we would not be able to present a united front in the world. Secondly, ladies and gentlemen, Europe’s economic success is a crucial factor. It forms the basis of our strength and determines whether our voice will even be heard in the world. Without economic clout, we will'"
      ]
     },
     "execution_count": 23,
     "metadata": {},
     "output_type": "execute_result"
    }
   ],
   "source": [
    "# Let's take a look at an example speech\n",
    "data.speeches.loc['Merkel']"
   ]
  },
  {
   "cell_type": "markdown",
   "metadata": {},
   "source": [
    "***"
   ]
  },
  {
   "cell_type": "markdown",
   "metadata": {},
   "source": [
    "### In this step i want to clean data by using regular expressions in order to take optimal result."
   ]
  },
  {
   "cell_type": "code",
   "execution_count": 24,
   "metadata": {},
   "outputs": [],
   "source": [
    "# Apply text cleaning techniques with re\n",
    "import re\n",
    "import string\n",
    "\n",
    "def clean_data(speech):\n",
    "    # Make text lowercase\n",
    "    speech = speech.lower() \n",
    "    \n",
    "    # remove text in square brackets\n",
    "    speech = re.sub('\\[.*?\\]', '', speech) \n",
    "    \n",
    "    # remove punctuation\n",
    "    speech = re.sub('[%s]' % re.escape(string.punctuation), '', speech) \n",
    "    \n",
    "    # remove words containing numbers\n",
    "    speech = re.sub('\\w*\\d\\w*', '', speech)\n",
    "    \n",
    "    # Get rid of some additional punctuation\n",
    "    speech = re.sub('[‘’“”…]', '', speech)\n",
    "    \n",
    "    # at last get rid of remaining non-sensical text.\n",
    "    speech = re.sub('[\\n]', ' ', speech) \n",
    "    \n",
    "    return speech\n",
    "\n",
    "clearance = lambda x: clean_data(x)"
   ]
  },
  {
   "cell_type": "code",
   "execution_count": 25,
   "metadata": {},
   "outputs": [
    {
     "data": {
      "text/html": [
       "<div>\n",
       "<style scoped>\n",
       "    .dataframe tbody tr th:only-of-type {\n",
       "        vertical-align: middle;\n",
       "    }\n",
       "\n",
       "    .dataframe tbody tr th {\n",
       "        vertical-align: top;\n",
       "    }\n",
       "\n",
       "    .dataframe thead th {\n",
       "        text-align: right;\n",
       "    }\n",
       "</style>\n",
       "<table border=\"1\" class=\"dataframe\">\n",
       "  <thead>\n",
       "    <tr style=\"text-align: right;\">\n",
       "      <th></th>\n",
       "      <th>speeches</th>\n",
       "    </tr>\n",
       "  </thead>\n",
       "  <tbody>\n",
       "    <tr>\n",
       "      <th>Erdogan</th>\n",
       "      <td>i wholeheartedly greet our  provinces as well as sister and friendly capitals and cities of the world from ankara from the ak party headquarters i...</td>\n",
       "    </tr>\n",
       "    <tr>\n",
       "      <th>Macron</th>\n",
       "      <td>dear friends we are here for this general assembly with the secretarygeneral having chosen what is such an important topic the climate and we had ...</td>\n",
       "    </tr>\n",
       "    <tr>\n",
       "      <th>Merkel</th>\n",
       "      <td>ladies and gentlemen nearly  years ago walter hallstein the former german commission president referred to european integration as an endeavour of...</td>\n",
       "    </tr>\n",
       "    <tr>\n",
       "      <th>Nicolas_Maduro</th>\n",
       "      <td>ambassadors heads of delegations of the countries members of the united nations organization presidentelect of the general assembly mrs maria fern...</td>\n",
       "    </tr>\n",
       "    <tr>\n",
       "      <th>Obama</th>\n",
       "      <td>my fellow citizens i stand here today humbled by the task before us grateful for the trust you have bestowed mindful of the sacrifices borne by ou...</td>\n",
       "    </tr>\n",
       "    <tr>\n",
       "      <th>Putin</th>\n",
       "      <td>citizens of russia members of the federation council and state duma todays address is a very special landmark event just as the times we are livin...</td>\n",
       "    </tr>\n",
       "    <tr>\n",
       "      <th>Trudeau</th>\n",
       "      <td>before i begin it wont surprise you that my remarks today will address the importance of progressive values in the context of globalization on tha...</td>\n",
       "    </tr>\n",
       "    <tr>\n",
       "      <th>Trump</th>\n",
       "      <td>madam speaker mr vice president members of congress the first lady of the united states and my fellow americans we meet tonight at a moment of unl...</td>\n",
       "    </tr>\n",
       "    <tr>\n",
       "      <th>Xi_Jinping</th>\n",
       "      <td>ladies and gentlemen friends september has just set in beijing bringing with it refreshing breeze and picturesque autumn scenery and we are so del...</td>\n",
       "    </tr>\n",
       "    <tr>\n",
       "      <th>Yoshihide_Suga</th>\n",
       "      <td>i am truly delighted to meet you all students of the vietnamjapan university vju which is a symbol of human resource development projects between ...</td>\n",
       "    </tr>\n",
       "  </tbody>\n",
       "</table>\n",
       "</div>"
      ],
      "text/plain": [
       "                                                                                                                                                             speeches\n",
       "Erdogan         i wholeheartedly greet our  provinces as well as sister and friendly capitals and cities of the world from ankara from the ak party headquarters i...\n",
       "Macron          dear friends we are here for this general assembly with the secretarygeneral having chosen what is such an important topic the climate and we had ...\n",
       "Merkel          ladies and gentlemen nearly  years ago walter hallstein the former german commission president referred to european integration as an endeavour of...\n",
       "Nicolas_Maduro  ambassadors heads of delegations of the countries members of the united nations organization presidentelect of the general assembly mrs maria fern...\n",
       "Obama           my fellow citizens i stand here today humbled by the task before us grateful for the trust you have bestowed mindful of the sacrifices borne by ou...\n",
       "Putin           citizens of russia members of the federation council and state duma todays address is a very special landmark event just as the times we are livin...\n",
       "Trudeau         before i begin it wont surprise you that my remarks today will address the importance of progressive values in the context of globalization on tha...\n",
       "Trump           madam speaker mr vice president members of congress the first lady of the united states and my fellow americans we meet tonight at a moment of unl...\n",
       "Xi_Jinping      ladies and gentlemen friends september has just set in beijing bringing with it refreshing breeze and picturesque autumn scenery and we are so del...\n",
       "Yoshihide_Suga  i am truly delighted to meet you all students of the vietnamjapan university vju which is a symbol of human resource development projects between ..."
      ]
     },
     "execution_count": 25,
     "metadata": {},
     "output_type": "execute_result"
    }
   ],
   "source": [
    "# Let's take a look at the new cleaned version of text\n",
    "cleaned = pd.DataFrame(data.speeches.apply(clearance))\n",
    "cleaned"
   ]
  },
  {
   "cell_type": "code",
   "execution_count": 31,
   "metadata": {},
   "outputs": [
    {
     "data": {
      "text/plain": [
       "'my fellow citizens i stand here today humbled by the task before us grateful for the trust you have bestowed mindful of the sacrifices borne by our ancestors i thank president bush for his service to our nation as well as the generosity and cooperation he has shown throughout this transition fortyfour americans have now taken the presidential oath the words have been spoken during rising tides of prosperity and the still waters of peace yet every so often the oath is taken amidst gathering clouds and raging storms at these moments america has carried on not simply because of the skill or vision of those in high office but because we the people have remained faithful to the ideals of our forbearers and true to our founding documents so it has been so it must be with this generation of americans that we are in the midst of crisis is now well understood our nation is at war against a farreaching network of violence and hatred our economy is badly weakened a consequence of greed and irresponsibility on the part of some but also our collective failure to make hard choices and prepare the nation for a new age homes have been lost jobs shed businesses shuttered our health care is too costly our schools fail too many and each day brings further evidence that the ways we use energy strengthen our adversaries and threaten our planet these are the indicators of crisis subject to data and statistics less measurable but no less profound is a sapping of confidence across our land  a nagging fear that americas decline is inevitable and that the next generation must lower its sights today i say to you that the challenges we face are real they are serious and they are many they will not be met easily or in a short span of time but know this america  they will be met on this day we gather because we have chosen hope over fear unity of purpose over conflict and discord on this day we come to proclaim an end to the petty grievances and false promises the recriminations and worn out dogmas that for far too long have strangled our politics we remain a young nation but in the words of scripture the time has come to set aside childish things the time has come to reaffirm our enduring spirit to choose our better history to carry forward that precious gift that noble idea passed on from generation to generation the godgiven promise that all are equal all are free and all deserve a chance to pursue their full measure of happiness in reaffirming the greatness of our nation we understand that greatness is never a given it must be earned our journey has never been one of shortcuts or settling for less it has not been the path for the fainthearted  for those who prefer leisure over work or seek only the pleasures of riches and fame rather it has been the risktakers the doers the makers of things  some celebrated but more often men and women obscure in their labor who have carried us up the long rugged path towards prosperity and freedom for us they packed up their few worldly possessions and traveled across oceans in search of a new life for us they toiled in sweatshops and settled the west endured the lash of the whip and plowed the hard earth for us they fought and died in places like concord and gettysburg normandy and khe sahn time and again these men and women struggled and sacrificed and worked till their hands were raw so that we might live a better life they saw america as bigger than the sum of our individual ambitions greater than all the differences of birth or wealth or faction this is the journey we continue today we remain the most prosperous powerful nation on earth our workers are no less productive than when this crisis began our minds are no less inventive our goods and services no less needed than they were last week or last month or last year our capacity remains undiminished but our time of standing pat of protecting narrow interests and putting off unpleasant decisions  that time has surely passed starting today we must pick ourselves up dust ourselves off and begin again the work of remaking america for everywhere we look there is work to be done the state of the economy calls for action bold and swift and we will act  not only to create new jobs but to lay a new foundation for growth we will build the roads and bridges the electric grids and digital lines that feed our commerce and bind us together we will restore science to its rightful place and wield technologys wonders to raise health cares quality and lower its cost we will harness the sun and the winds and the soil to fuel our cars and run our factories and we will transform our schools and colleges and universities to meet the demands of a new age all this we can do and all this we will do now there are some who question the scale of our ambitions  who suggest that our system cannot tolerate too many big plans their memories are short for they have forgotten what this country has already done what free men and women can achieve when imagination is joined to common purpose and necessity to courage what the cynics fail to understand is that the ground has shifted beneath them  that the stale political arguments that have consumed us for so long no longer apply the question we ask today is not whether our government is too big or too small but whether it works  whether it helps families find jobs at a decent wage care they can afford a retirement that is dignified where the answer is yes we intend to move forward where the answer is no programs will end and those of us who manage the publics dollars will be held to account  to spend wisely reform bad habits and do our business in the light of day  because only then can we restore the vital trust between a people and their government nor is the question before us whether the market is a force for good or ill its power to generate wealth and expand freedom is unmatched but this crisis has reminded us that without a watchful eye the market can spin out of control  and that a nation cannot prosper long when it favors only the prosperous the success of our economy has always depended not just on the size of our gross domestic product but on the reach of our prosperity on the ability to extend opportunity to every willing heart  not out of charity but because it is the surest route to our common good as for our common defense we reject as false the choice between our safety and our ideals our founding fathers faced with perils we can scarcely imagine drafted a charter to assure the rule of law and the rights of man a charter expanded by the blood of generations those ideals still light the world and we will not give them up for expediences sake and so to all other peoples and governments who are watching today from the grandest capitals to the small village where my father was born know that america is a friend of each nation and every man woman and child who seeks a future of peace and dignity and we are ready to lead once more recall that earlier generations faced down fascism and communism not just with missiles and tanks but with the sturdy alliances and enduring convictions they understood that our power alone cannot protect us nor does it entitle us to do as we please instead they knew that our power grows through its prudent use our security emanates from the justness of our cause the force of our example the tempering qualities of humility and restraint we are the keepers of this legacy guided by these principles once more we can meet those new threats that demand even greater effort  even greater cooperation and understanding between nations we will begin to responsibly leave iraq to its people and forge a hardearned peace in afghanistan with old friends and former foes well work tirelessly to lessen the nuclear threat and roll back the specter of a warming planet we will not apologize for our way of life nor will we waver in its defense and for those who seek to advance their aims by inducing terror and slaughtering innocents we say to you now that our spirit is stronger and cannot be broken you cannot outlast us and we will defeat you for we know that our patchwork heritage is a strength not a weakness we are a nation of christians and muslims jews and hindus  and nonbelievers we are shaped by every language and culture drawn from every end of this earth and because we have tasted the bitter swill of civil war and segregation and emerged from that dark chapter stronger and more united we cannot help but believe that the old hatreds shall someday pass that the lines of tribe shall soon dissolve that as the world grows smaller our common humanity shall reveal itself and that america must play its role in ushering in a new era of peace to the muslim world we seek a new way forward based on mutual interest and mutual respect to those leaders around the globe who seek to sow conflict or blame their societys ills on the west  know that your people will judge you on what you can build not what you destroy to those who cling to power through corruption and deceit and the silencing of dissent know that you are on the wrong side of history but that we will extend a hand if you are willing to unclench your fist to the people of poor nations we pledge to work alongside you to make your farms flourish and let clean waters flow to nourish starved bodies and feed hungry minds and to those nations like ours that enjoy relative plenty we say we can no longer afford indifference to the suffering outside our borders nor can we consume the worlds resources without regard to effect for the world has changed and we must change with it as we consider the road that unfolds before us we remember with humble gratitude those brave americans who at this very hour patrol faroff deserts and distant mountains they have something to tell us just as the fallen heroes who lie in arlington whisper through the ages we honor them not only because they are guardians of our liberty but because they embody the spirit of service a willingness to find meaning in something greater than themselves and yet at this moment  a moment that will define a generation  it is precisely this spirit that must inhabit us all for as much as government can do and must do it is ultimately the faith and determination of the american people upon which this nation relies it is the kindness to take in a stranger when the levees break the selflessness of workers who would rather cut their hours than see a friend lose their job which sees us through our darkest hours it is the firefighters courage to storm a stairway filled with smoke but also a parents willingness to nurture a child that finally decides our fate our challenges may be new the instruments with which we meet them may be new but those values upon which our success depends  honesty and hard work courage and fair play tolerance and curiosity loyalty and patriotism  these things are old these'"
      ]
     },
     "execution_count": 31,
     "metadata": {},
     "output_type": "execute_result"
    }
   ],
   "source": [
    "cleaned.speeches['Obama']\n"
   ]
  },
  {
   "cell_type": "code",
   "execution_count": 32,
   "metadata": {},
   "outputs": [],
   "source": [
    "# Let's make cleaned data csv file for analyse later\n",
    "import csv\n",
    "cleaned.to_csv(\"corpus.csv\")"
   ]
  },
  {
   "cell_type": "markdown",
   "metadata": {},
   "source": [
    "### Word Matrix of Speeches\n",
    "\n",
    "Be able to analyse speeches i want to in this step 'Tokenize' all words.\n",
    "\n",
    "We can do this using scikit-learn's CountVectorizer, where every row will represent a different document and every column will represent a different word.\n",
    "\n",
    "In addition, with CountVectorizer, we can remove stop words. Stop words are common words that add no additional meaning to text such as 'a', 'the', etc."
   ]
  },
  {
   "cell_type": "code",
   "execution_count": 33,
   "metadata": {},
   "outputs": [
    {
     "data": {
      "text/html": [
       "<div>\n",
       "<style scoped>\n",
       "    .dataframe tbody tr th:only-of-type {\n",
       "        vertical-align: middle;\n",
       "    }\n",
       "\n",
       "    .dataframe tbody tr th {\n",
       "        vertical-align: top;\n",
       "    }\n",
       "\n",
       "    .dataframe thead th {\n",
       "        text-align: right;\n",
       "    }\n",
       "</style>\n",
       "<table border=\"1\" class=\"dataframe\">\n",
       "  <thead>\n",
       "    <tr style=\"text-align: right;\">\n",
       "      <th></th>\n",
       "      <th>abdullah</th>\n",
       "      <th>abe</th>\n",
       "      <th>ability</th>\n",
       "      <th>abkhazians</th>\n",
       "      <th>able</th>\n",
       "      <th>aboard</th>\n",
       "      <th>abolish</th>\n",
       "      <th>aborigines</th>\n",
       "      <th>absolute</th>\n",
       "      <th>abundant</th>\n",
       "      <th>...</th>\n",
       "      <th>yesterdays</th>\n",
       "      <th>yield</th>\n",
       "      <th>york</th>\n",
       "      <th>young</th>\n",
       "      <th>youre</th>\n",
       "      <th>youth</th>\n",
       "      <th>zealand</th>\n",
       "      <th>zelensky</th>\n",
       "      <th>zero</th>\n",
       "      <th>şah</th>\n",
       "    </tr>\n",
       "  </thead>\n",
       "  <tbody>\n",
       "    <tr>\n",
       "      <th>Erdogan</th>\n",
       "      <td>0</td>\n",
       "      <td>0</td>\n",
       "      <td>0</td>\n",
       "      <td>1</td>\n",
       "      <td>0</td>\n",
       "      <td>0</td>\n",
       "      <td>0</td>\n",
       "      <td>0</td>\n",
       "      <td>1</td>\n",
       "      <td>0</td>\n",
       "      <td>...</td>\n",
       "      <td>0</td>\n",
       "      <td>0</td>\n",
       "      <td>0</td>\n",
       "      <td>1</td>\n",
       "      <td>0</td>\n",
       "      <td>1</td>\n",
       "      <td>0</td>\n",
       "      <td>0</td>\n",
       "      <td>0</td>\n",
       "      <td>1</td>\n",
       "    </tr>\n",
       "    <tr>\n",
       "      <th>Macron</th>\n",
       "      <td>1</td>\n",
       "      <td>0</td>\n",
       "      <td>0</td>\n",
       "      <td>0</td>\n",
       "      <td>3</td>\n",
       "      <td>0</td>\n",
       "      <td>0</td>\n",
       "      <td>0</td>\n",
       "      <td>0</td>\n",
       "      <td>0</td>\n",
       "      <td>...</td>\n",
       "      <td>1</td>\n",
       "      <td>0</td>\n",
       "      <td>0</td>\n",
       "      <td>1</td>\n",
       "      <td>0</td>\n",
       "      <td>0</td>\n",
       "      <td>1</td>\n",
       "      <td>1</td>\n",
       "      <td>0</td>\n",
       "      <td>0</td>\n",
       "    </tr>\n",
       "    <tr>\n",
       "      <th>Merkel</th>\n",
       "      <td>0</td>\n",
       "      <td>0</td>\n",
       "      <td>0</td>\n",
       "      <td>0</td>\n",
       "      <td>2</td>\n",
       "      <td>0</td>\n",
       "      <td>0</td>\n",
       "      <td>0</td>\n",
       "      <td>0</td>\n",
       "      <td>0</td>\n",
       "      <td>...</td>\n",
       "      <td>0</td>\n",
       "      <td>0</td>\n",
       "      <td>0</td>\n",
       "      <td>0</td>\n",
       "      <td>0</td>\n",
       "      <td>1</td>\n",
       "      <td>0</td>\n",
       "      <td>0</td>\n",
       "      <td>0</td>\n",
       "      <td>0</td>\n",
       "    </tr>\n",
       "    <tr>\n",
       "      <th>Nicolas_Maduro</th>\n",
       "      <td>0</td>\n",
       "      <td>0</td>\n",
       "      <td>0</td>\n",
       "      <td>0</td>\n",
       "      <td>0</td>\n",
       "      <td>0</td>\n",
       "      <td>0</td>\n",
       "      <td>1</td>\n",
       "      <td>0</td>\n",
       "      <td>0</td>\n",
       "      <td>...</td>\n",
       "      <td>0</td>\n",
       "      <td>0</td>\n",
       "      <td>3</td>\n",
       "      <td>0</td>\n",
       "      <td>0</td>\n",
       "      <td>0</td>\n",
       "      <td>0</td>\n",
       "      <td>0</td>\n",
       "      <td>0</td>\n",
       "      <td>0</td>\n",
       "    </tr>\n",
       "    <tr>\n",
       "      <th>Obama</th>\n",
       "      <td>0</td>\n",
       "      <td>0</td>\n",
       "      <td>1</td>\n",
       "      <td>0</td>\n",
       "      <td>0</td>\n",
       "      <td>0</td>\n",
       "      <td>0</td>\n",
       "      <td>0</td>\n",
       "      <td>0</td>\n",
       "      <td>0</td>\n",
       "      <td>...</td>\n",
       "      <td>0</td>\n",
       "      <td>0</td>\n",
       "      <td>0</td>\n",
       "      <td>1</td>\n",
       "      <td>0</td>\n",
       "      <td>0</td>\n",
       "      <td>0</td>\n",
       "      <td>0</td>\n",
       "      <td>0</td>\n",
       "      <td>0</td>\n",
       "    </tr>\n",
       "    <tr>\n",
       "      <th>Putin</th>\n",
       "      <td>0</td>\n",
       "      <td>0</td>\n",
       "      <td>2</td>\n",
       "      <td>0</td>\n",
       "      <td>3</td>\n",
       "      <td>0</td>\n",
       "      <td>0</td>\n",
       "      <td>0</td>\n",
       "      <td>0</td>\n",
       "      <td>0</td>\n",
       "      <td>...</td>\n",
       "      <td>0</td>\n",
       "      <td>1</td>\n",
       "      <td>0</td>\n",
       "      <td>1</td>\n",
       "      <td>0</td>\n",
       "      <td>0</td>\n",
       "      <td>0</td>\n",
       "      <td>0</td>\n",
       "      <td>0</td>\n",
       "      <td>0</td>\n",
       "    </tr>\n",
       "    <tr>\n",
       "      <th>Trudeau</th>\n",
       "      <td>0</td>\n",
       "      <td>1</td>\n",
       "      <td>0</td>\n",
       "      <td>0</td>\n",
       "      <td>0</td>\n",
       "      <td>0</td>\n",
       "      <td>0</td>\n",
       "      <td>0</td>\n",
       "      <td>0</td>\n",
       "      <td>0</td>\n",
       "      <td>...</td>\n",
       "      <td>0</td>\n",
       "      <td>0</td>\n",
       "      <td>0</td>\n",
       "      <td>0</td>\n",
       "      <td>1</td>\n",
       "      <td>0</td>\n",
       "      <td>0</td>\n",
       "      <td>0</td>\n",
       "      <td>0</td>\n",
       "      <td>0</td>\n",
       "    </tr>\n",
       "    <tr>\n",
       "      <th>Trump</th>\n",
       "      <td>0</td>\n",
       "      <td>0</td>\n",
       "      <td>0</td>\n",
       "      <td>0</td>\n",
       "      <td>0</td>\n",
       "      <td>0</td>\n",
       "      <td>1</td>\n",
       "      <td>0</td>\n",
       "      <td>0</td>\n",
       "      <td>0</td>\n",
       "      <td>...</td>\n",
       "      <td>0</td>\n",
       "      <td>0</td>\n",
       "      <td>1</td>\n",
       "      <td>2</td>\n",
       "      <td>0</td>\n",
       "      <td>0</td>\n",
       "      <td>0</td>\n",
       "      <td>0</td>\n",
       "      <td>0</td>\n",
       "      <td>0</td>\n",
       "    </tr>\n",
       "    <tr>\n",
       "      <th>Xi_Jinping</th>\n",
       "      <td>0</td>\n",
       "      <td>0</td>\n",
       "      <td>0</td>\n",
       "      <td>0</td>\n",
       "      <td>0</td>\n",
       "      <td>1</td>\n",
       "      <td>0</td>\n",
       "      <td>0</td>\n",
       "      <td>0</td>\n",
       "      <td>0</td>\n",
       "      <td>...</td>\n",
       "      <td>0</td>\n",
       "      <td>1</td>\n",
       "      <td>0</td>\n",
       "      <td>1</td>\n",
       "      <td>0</td>\n",
       "      <td>0</td>\n",
       "      <td>0</td>\n",
       "      <td>0</td>\n",
       "      <td>0</td>\n",
       "      <td>0</td>\n",
       "    </tr>\n",
       "    <tr>\n",
       "      <th>Yoshihide_Suga</th>\n",
       "      <td>0</td>\n",
       "      <td>3</td>\n",
       "      <td>1</td>\n",
       "      <td>0</td>\n",
       "      <td>0</td>\n",
       "      <td>0</td>\n",
       "      <td>0</td>\n",
       "      <td>0</td>\n",
       "      <td>0</td>\n",
       "      <td>1</td>\n",
       "      <td>...</td>\n",
       "      <td>0</td>\n",
       "      <td>0</td>\n",
       "      <td>0</td>\n",
       "      <td>0</td>\n",
       "      <td>0</td>\n",
       "      <td>1</td>\n",
       "      <td>0</td>\n",
       "      <td>0</td>\n",
       "      <td>1</td>\n",
       "      <td>0</td>\n",
       "    </tr>\n",
       "  </tbody>\n",
       "</table>\n",
       "<p>10 rows × 3427 columns</p>\n",
       "</div>"
      ],
      "text/plain": [
       "                abdullah  abe  ability  abkhazians  able  aboard  abolish  \\\n",
       "Erdogan                0    0        0           1     0       0        0   \n",
       "Macron                 1    0        0           0     3       0        0   \n",
       "Merkel                 0    0        0           0     2       0        0   \n",
       "Nicolas_Maduro         0    0        0           0     0       0        0   \n",
       "Obama                  0    0        1           0     0       0        0   \n",
       "Putin                  0    0        2           0     3       0        0   \n",
       "Trudeau                0    1        0           0     0       0        0   \n",
       "Trump                  0    0        0           0     0       0        1   \n",
       "Xi_Jinping             0    0        0           0     0       1        0   \n",
       "Yoshihide_Suga         0    3        1           0     0       0        0   \n",
       "\n",
       "                aborigines  absolute  abundant  ...  yesterdays  yield  york  \\\n",
       "Erdogan                  0         1         0  ...           0      0     0   \n",
       "Macron                   0         0         0  ...           1      0     0   \n",
       "Merkel                   0         0         0  ...           0      0     0   \n",
       "Nicolas_Maduro           1         0         0  ...           0      0     3   \n",
       "Obama                    0         0         0  ...           0      0     0   \n",
       "Putin                    0         0         0  ...           0      1     0   \n",
       "Trudeau                  0         0         0  ...           0      0     0   \n",
       "Trump                    0         0         0  ...           0      0     1   \n",
       "Xi_Jinping               0         0         0  ...           0      1     0   \n",
       "Yoshihide_Suga           0         0         1  ...           0      0     0   \n",
       "\n",
       "                young  youre  youth  zealand  zelensky  zero  şah  \n",
       "Erdogan             1      0      1        0         0     0    1  \n",
       "Macron              1      0      0        1         1     0    0  \n",
       "Merkel              0      0      1        0         0     0    0  \n",
       "Nicolas_Maduro      0      0      0        0         0     0    0  \n",
       "Obama               1      0      0        0         0     0    0  \n",
       "Putin               1      0      0        0         0     0    0  \n",
       "Trudeau             0      1      0        0         0     0    0  \n",
       "Trump               2      0      0        0         0     0    0  \n",
       "Xi_Jinping          1      0      0        0         0     0    0  \n",
       "Yoshihide_Suga      0      0      1        0         0     1    0  \n",
       "\n",
       "[10 rows x 3427 columns]"
      ]
     },
     "execution_count": 33,
     "metadata": {},
     "output_type": "execute_result"
    }
   ],
   "source": [
    "# We are going to create a word matrix using CountVectorizer, and exclude common English stop words\n",
    "from sklearn.feature_extraction.text import CountVectorizer\n",
    "\n",
    "cv = CountVectorizer(stop_words='english')\n",
    "data_cv = cv.fit_transform(cleaned.speeches)\n",
    "data_words = pd.DataFrame(data_cv.toarray(), columns=cv.get_feature_names())\n",
    "data_words.index = cleaned.index\n",
    "data_words"
   ]
  },
  {
   "cell_type": "code",
   "execution_count": 34,
   "metadata": {},
   "outputs": [],
   "source": [
    "# Let's make word matrix again csv file\n",
    "data_words.to_csv(\"data_words.csv\")"
   ]
  },
  {
   "cell_type": "code",
   "execution_count": null,
   "metadata": {},
   "outputs": [],
   "source": []
  }
 ],
 "metadata": {
  "kernelspec": {
   "display_name": "Python 3",
   "language": "python",
   "name": "python3"
  },
  "language_info": {
   "codemirror_mode": {
    "name": "ipython",
    "version": 3
   },
   "file_extension": ".py",
   "mimetype": "text/x-python",
   "name": "python",
   "nbconvert_exporter": "python",
   "pygments_lexer": "ipython3",
   "version": "3.8.3"
  }
 },
 "nbformat": 4,
 "nbformat_minor": 4
}
