{
 "cells": [
  {
   "cell_type": "markdown",
   "metadata": {},
   "source": [
    "# Data Cleaning"
   ]
  },
  {
   "cell_type": "markdown",
   "metadata": {},
   "source": [
    "## Introduction"
   ]
  },
  {
   "cell_type": "markdown",
   "metadata": {},
   "source": [
    "This Notebook starts with data cleaning, it is necessary step of any Data Science project. With dirty Data into a model can noone will have meaningful results. The data we give to our model should be cleared beforehand to get the best results.\n",
    "\n",
    "Specifically, we'll be walking through:\n",
    "\n",
    "1. **Getting the data - **manually find from different sources.\n",
    "2. **Cleaning the data - **we will walk through popular text pre-processing techniques\n",
    "3. **Organizing the data - **we will organize the cleaned data into a way that is easy to input into other algorithms\n",
    "\n",
    "The output of this notebook will be clean, organized data in two standard text formats:\n",
    "\n",
    "1. **Corpus** - a collection of text\n",
    "2. **Document-Term Matrix** - word counts in matrix format"
   ]
  },
  {
   "cell_type": "markdown",
   "metadata": {},
   "source": [
    "## Problem Statement"
   ]
  },
  {
   "cell_type": "markdown",
   "metadata": {},
   "source": [
    "The millennium was a period in which technology and democracy were expected to reach a certain level all over the world.\n",
    "\n",
    "But it is very difficult to say that all communities have the same level of prosperity and the benefits of democracy.\n",
    "\n",
    "In this work, I will analyze the words used in the speeches of the leaders of various countries."
   ]
  },
  {
   "cell_type": "markdown",
   "metadata": {},
   "source": [
    "Of course, this is a data science work. I will leave it to political scientists to discuss the results of this study."
   ]
  },
  {
   "cell_type": "markdown",
   "metadata": {},
   "source": [
    "## Getting The Data"
   ]
  },
  {
   "cell_type": "markdown",
   "metadata": {},
   "source": [
    "Unfortunately, there are no transcripts of leaders in a single source. I will analyze the English texts I copied from different sources."
   ]
  },
  {
   "cell_type": "code",
   "execution_count": 1,
   "metadata": {},
   "outputs": [],
   "source": [
    "import glob   # for iteration in Txt files.\n",
    "import re     # to get the names of presidents for making dataset from texts."
   ]
  },
  {
   "cell_type": "code",
   "execution_count": 2,
   "metadata": {},
   "outputs": [],
   "source": [
    "presidents = []\n",
    "speeches = []\n",
    "\n",
    "dict = {}\n",
    "\n",
    "pattern = r'raw_data/(\\w+)\\.*'\n",
    "\n",
    "for filename in glob.glob('raw_data/*.txt'):\n",
    "    leaders_name = re.search(pattern, filename)\n",
    "    with open(filename, 'r') as text:\n",
    "        text = text.read()\n",
    "    \n",
    "    dict[leaders_name[1]] = text"
   ]
  },
  {
   "cell_type": "code",
   "execution_count": 3,
   "metadata": {
    "scrolled": true
   },
   "outputs": [
    {
     "data": {
      "text/plain": [
       "'Trudeau'"
      ]
     },
     "execution_count": 3,
     "metadata": {},
     "output_type": "execute_result"
    }
   ],
   "source": [
    "next(iter(dict.keys())) #For Example"
   ]
  },
  {
   "cell_type": "code",
   "execution_count": 4,
   "metadata": {},
   "outputs": [
    {
     "data": {
      "text/plain": [
       "\"Before I begin, it won’t surprise you that my remarks today will address the importance of progressive values in the context of globalization.\\n\\nOn that note, today, I am pleased to announce that Canada and the ten other remaining members of the Trans-Pacific Partnership concluded discussions in Tokyo, Japan, on a new Comprehensive and Progressive Agreement for Trans-Pacific Partnership (CPTPP).\\n\\nThe agreement reached in Tokyo today is the right deal. Our government stood up for Canadian interests and this agreement meets our objectives of creating and sustaining growth, prosperity and well-paying middle-class jobs today and for generations to come.\\n\\nWe are pleased with the progress we have made to make this deal more progressive and stronger for Canadian workers on intellectual property, culture and the automotive sector\\u200e.\\n\\nTrade helps strengthen the middle class, but for it to work we must ensure that the benefits are shared with all our citizens, not just the few. The Comprehensive and Progressive Trans Pacific Partnership is a new step on that path.\\n\\nI would also like to personally thank \\u200ePrime Minister Abe for hosting the recent talks and for his leadership on reaching this positive outcome.\\n\\nJe suis heureux d’annoncer aujourd’hui que le Canada et les dix autres membres de l’accord de partenariat transpacifique global et progressiste ont conclu leurs négociations àTokio.\\n\\nCet accord est un bon accord pour les Canadiens car il créera de l’emploi et de la prospérité pour la classe moyenne.\\n\\nNous sommes fiers d’être arrivés à un accord unanime avec tous les partenaires sur la culture. Et d’avoir réalisé du progrès pour le secteur automobile et la propriété intellectuelle.\\n\\nGrâce à nos efforts continus, nous avons un accord ambitieux et progressiste pour les Canadiens.\\n\\nToday is a great day for Canada and a great day for progressive trade.\\n\\nI was last here at the World Economic Forum in 2016, two months after being sworn in as Prime Minister.\\n\\nAnd while that might not seem like very long ago, in this new era of perpetual change that we’re living in, two years might as well be a lifetime.\\n\\nThink about it: The pace of change has never been this fast, yet it will never be this slow again.\\n\\nThere’s enormous opportunity, and enormous potential, in that realization.\\n\\nTechnology has always brought such promise – a better standard of living, new innovations, remarkable products. Consider that progression from steam power, to electricity, to computers.\\n\\nBut it also brings dramatic shifts in our social, economic, and political cultures.\\n\\nThis current step, involving automation and AI, as the obvious examples, will totally revolutionize the world of work – in many ways, they already have.\\n\\nAs business leaders, I know you view these as both exciting and challenging advancements. You are rightly anxious about how quickly our existing business models are being disrupted.\\n\\nStill, if you’re anxious, imagine how the folks who aren’t in this room are feeling.\\n\\nWorkers, people who aren’t seeing the benefits of economic growth, regular men and women who are trying to grab a rung on the career ladder (never mind climb it) – for them, technology is a benefit to their lives, but a threat to their jobs.\\n\\nOver the past few years, we’ve seen the ripple effects of economic uncertainty and inequality play out around the world.\\n\\nThe unrest we’ve witnessed is driven by anxiety and fear.\\n\\nFear of what a rapidly changing world means for workers and their families, and for those who are already struggling in the existing economy.\\n\\nAnd that fear – that anxiety – is valid.\\n\\nPeople have been taken advantage of, losing their jobs and their livelihoods.\\n\\nGovernments and corporations – we haven’t done enough to address this.\\n\\nOver the past decades, citizens and workers have been calling for change, but too often, their pleas have been ignored.\\n\\nToo many politicians become disconnected – refusing to really listen, chasing short term wins over long term, meaningful solutions.\\n\\nAnd too many corporations have put the pursuit of profit before the wellbeing of their workers.\\n\\nThe gap between the rich and the poor is staggering.\\n\\nAll the while, companies avoid taxes and boast record profits with one hand, while slashing benefits with the other.\\n\\nBut that approach can’t and won’t cut it anymore.\\n\\nLes gens se sentent à l’écart. Ils sont fâchés et ils blâment les secteurs public et privé.\\n\\nNous sommes témoins d’un moment important – nous ne pouvons pas répéter les erreurs du passé.\\n\\nLa croissance économique doit générer des retombées réelles pour nos communautés.\\n\\nLes accords commerciaux doivent, tous les jours, offrir de meilleures occasions à nos citoyens.\\n\\nEt les entreprises doivent prendre au sérieux leurs obligations à l’égard des travailleurs qui sont à leur service, et à l’égard des communautés qui les appuient.\\n\\nWe’re in a new age of doing business – you need to give back.\\n\\nYou need to be part of the solution. And if you don’t believe me, take it from Larry Fink.\\n\\nIn his most recent annual letter to CEOs, Larry writes:\\n\\n“Society is demanding that companies, both public and private, serve a social purpose.\\n\\n“To prosper over time, every company must not only deliver financial performance, but also show how it makes a positive contribution to society.\\n\\n“Companies must benefit all of their stakeholders, including shareholders, employees, customers, and the communities in which they operate.”\\n\\nNow, I understand that the burden of change falls heavy, and you cannot be expected to solve all the ills of the world.\\n\\nBut sitting back and hoping some other corporation – or some other country –volunteers to take the lead on this will get us nowhere.\\n\\nWe have to drive this change. Each and every one of us.\\n\\nForums like this one are a great way to talk about how we can best work together to fulfill our duty to serve.\\n\\nWe cannot neglect our responsibility to the people who matter most – to the people who aren’t here in Davos and never will be.\\n\\nThose are the people we’re working for.\\n\\nThose are the people who must be our priority.\\n\\nIf we do nothing, and if we operate in the mindset of “business as usual”, the systems will break down, and we will all fail.\\n\\nWe all know that to be competitive in the modern economy, change is imperative.\\n\\nAnd the grassroots desire for change is there – it always has been.\\n\\nBut it’s on us to flip the switch.\\n\\nWe know what needs to be done. It is well past time that we listen, learn, and finally, lead.\\n\\nOf course, this kind of profound, societal change can seem overwhelming, and lead us to wonder where even to begin.\\n\\nSo I’d like to focus on a fundamental shift that every leader in this room can act on immediately.\\n\\nOne that I have made a central tenet of my leadership.\\n\\nOne that is core to this year’s Forum, thanks to the leadership of our seven extraordinary co-chairs.\\n\\nI’m talking about hiring, promoting, and retaining more women.\\n\\nAnd not just because it’s the right thing to do, or the nice thing to do, but because it’s the smart thing to do.\\n\\nIn Canada, like all over the world, much of the economic and labour force growth we've experienced over the last many decades is because of women entering into – and changing – the workforce.\\n\\nBut there is still so much room for improvement, and such enormous benefit to be had.\\n\\nMcKinsey estimates that narrowing the gender gap in Canada could add $150 billion to our economy by 2026.\\n\\nResearch tells us that organizations with women on their corporate boards and in key leadership positions perform better than those without.\\n\\nIn fact, The Peterson Institute for International Economics found that increasing the share of women in leadership positions from 0% to 30% translates into a 15% boost to profitability.\\n\\nRecent estimates suggest that economic gender parity could add $1.75 trillion to the United States’ GDP.\\n\\nAnd in China?\\n\\nThe GDP boost could be as much as $2.5 trillion – that’s bigger than the entire Canadian economy.\\n\\nMesdames et Messieurs, embaucher, promouvoir et retenir plus de femmes se traduit non seulement par une augmentation de vos profits, mais aussi par une plus grande diversité d’idées.\\n\\nEn effet, l’inclusion des femmes a le pouvoir d’amener l’innovation à un autre niveau et de faciliter la résolution des conflits.\\n\\nEncouragez la participation des femmes et vos entreprises, tout comme vos communautés, seront plus fortes.\\n\\nNow, when we talk about getting more women into the workforce, the issue of pay equity comes up – and it should, it’s vitally important.\\n\\nIn Canada, we’ll be moving forward this year with legislation to ensure equal pay for work of equal value at the federal level.\\n\\nBut I’m sure there are a few of you in the audience who are thinking, “I already have equal pay policies in place. This doesn’t apply to me.”\\n\\nSo while I commend your effort on this front, it may not be good enough.\\n\\nOur own government’s pay equity efforts, while important, are still just a first step.\\n\\nBecause equal pay for women does not mean equal opportunity, or equal treatment, or equal sacrifice.\\n\\nPaying a female employee the same as a male employee doesn’t even begin to touch issues around family planning, promotions, or job security.\\n\\nWomen do more part-time work, and more unpaid work, than men.\\n\\nHow do we address that?\\n\\nWhen we dig a little deeper, when we peel back that outer layer, we see that there are a whole host of barriers facing women in the workplace.\\n\\nRemoving these barriers will take effort, leadership, and a willingness to change the nature of work as we know it.\\n\\nQu’est-ce que ça veut dire? Que pouvons-nous faire? Comment accroître la représentation des femmes au sein des entreprises? Et, surtout, comment faire pour les maintenir en poste?\\n\\nEh bien, nous devons fondamentalement changer la culture d’entreprise de façon à ce que les femmes se sentent accueillies, soutenues et valorisées.\\n\\nHere’s where we need to start.\\n\\nIt’s time to take a serious look at parental leave and child care policies.\\n\\nWe should be encouraging women – and men – to make the best decision for their family situation.\\n\\nIn Canada, we’ve given parents more options for parental leave, and invested billions in affordable, high quality child care.\\n\\nWe also introduced a really successful child benefit program that gives middle- and low-income parents more money every month to help with the high costs of raising kids.\\n\\nAnd since the Canada Child Benefit gives more money to those who need it most, the financial impact on single mothers \\u200ehas been significant.\\n\\nLast year, nearly 90% of single mom's receiving the Canada Child Benefit earned less than $60,000 and received about $9,000 in total benefits, tax-free.\\n\\nAnd let’s be clear: helping those families has been a key driver of Canada’s recent economic growth.\\n\\nCompanies should have a formal policy on gender diversity, and make the recruitment of women candidates a priority.\\n\\nYou may remember that we introduced our country’s first gender-balanced Cabinet in 2015.\\n\\nThe usual suspects complained. But guess what?\\n\\nTwo years later, Chrystia Freeland and Maryam Monsef, who are here this week – along with their many female colleagues in Cabinet – are serving the country with great distinction, and have elevated the level of decision-making and debate for everyone in Cabinet and in government\\n\\nAs corporate leaders, consider a gender-balanced board, or gender-balanced project teams.\\n\\nAnytime we’re looking for a new hire, we should be identifying women candidates at a rate equal to men.\\n\\nIn Canada, when we look to fill appointments, we work to recruit people who reflect the true diversity of our country.\\n\\nEt nous devons rendre les comptes sur les efforts que nous déployons de façon ouverte et transparente.\\n\\nEn fait, nous sommes sur le point d’adopter une loi qui obligerait les entreprises constituées en vertu d’une loi fédérale à divulguer de l’information au sujet de leurs politiques en matière de diversité.\\n\\nPar exemple, cela inclurait la proportion hommes‑femmes de leur conseil d’administration et de leur haute direction.\\n\\nQuelques autres points à améliorer?\\n\\nNous devons comprendre que la responsabilité de prendre soin des aînés ou des proches malades revient souvent aux femmes.\\n\\nAlors, la création d’un programme pour les aidants naturels qui contribuerait à réduire les difficultés financières engendrées par une absence au travail est une option à envisager.\\n\\nAnd we have to recognize that aspects of intersectionality are always at play, and require special attention.\\n\\nHere’s an example: In 2016, among women who were newly appointed to the boards of Fortune 500 companies, 77% of them were white.\\n\\nRace, religion, sexuality, socioeconomic status – these are just a few of the ways that women are even further discriminated against.\\n\\nAnd finally, folks, here is a really big one:\\n\\nMe Too, Times Up, the Women’s March – these movements tell us that we need to have a critical discussion on women’s rights, equality, and the power dynamics of gender.\\n\\nSexual harassment, for example – in business and in government – is a systemic problem and it is unacceptable.\\n\\nAs leaders, we need to act to show that truly, time is up.\\n\\nWe must each have a well-understood, established process in place to file allegations of workplace harassment.\\n\\nAnd when we receive those complaints, we must take them seriously.\\n\\nAs women speak up, it is our responsibility to listen, and more importantly, to believe.\\n\\nFolks, treat these not as piecemeal alternatives to how things currently run. Treat these examples as a fundamental, essential shift in the way we operate.\\n\\nAs governments and corporations, are entrusted with a platform and a voice. Let’s use them.\\n\\nLast year, with our neighbours in the US, we established the Canada-US Council for Advancement of Women Entrepreneurs and Business Leaders.\\n\\nThe council just put out an important report – their first of five – focused on supporting and growing women-owned businesses.\\n\\nCette année, le Canada préside le G7, dont le sommet aura lieu dans Charlevoix, au Québec.\\n\\nL’avancement des femmes sur les plans social, politique et économique est un aspect important de notre présidence.\\n\\nL’égalité des sexes et l’analyse comparative entre les sexes seront intégrés dans l’ensemble des thèmes, des activités et des résultats de notre présidence du G7 – y compris dans les réunions ministérielles et lors du Sommet des dirigeants du G7.\\n\\nEt je suis heureux d’annoncer que Melinda Gates et Isabelle Hudon seront les coprésidentes du Conseil consultatif pour l’égalité des sexes du G7.\\n\\nCes deux femmes sont des voix fortes pour l’avancement de l’égalité des sexes et l’autonomisation des femmes et des filles – et s’assureront que l’égalité des sexes demeure une priorité dans tout ce que nous faisons au G7 cette année.\\n\\nI’m pleased to announce that the co-chairs for the G7 Gender Equality Advisory Council will be Melinda Gates and Isabelle Hudon.\\n\\nBoth of these women are global leaders in the advancement of gender equality and the empowerment of women and girls – and so will ensure that gender equality is a priority through everything the G7 does this year.\\n\\n2018 will also see Canada hosting Fortune’s Most Powerful Women International summit, and 2019 will bring the Women Deliver Conference to Vancouver – the world’s largest gathering on health, rights, and wellbeing of women and girls.\\n\\nThese are just a few examples of what we’re doing to draw regular and frequent attention to the untapped potential of women and girls around the world.\\n\\nAnd that’s not to say that we’ve got it all figured out.\\n\\nIn Canada, we need more women in politics, more women on corporate boards, and more women in STEM.\\n\\nAnd that’s just the tip of the iceberg.\\n\\nSo in reflecting on this, let me ask you: What are your challenges? And what are you doing to address them?\\n\\nLadies and gentlemen, the hiring, promotion, and retention of women is something we can make happen today, right now.\\n\\nMore women in leadership positions won’t just grow our economy, create jobs, and strengthen our communities.\\n\\nIt will also lead to innovation and change in the workplace – innovation and change that workers so desperately need.\\n\\nThe unrest that we see around the world is palpable, and it isn’t going away.\\n\\nThese are uncertain times. We have a responsibility to address people’s very real concerns.\\n\\nAnd the only way we’ll get there is by listening. If we listen to our workers and our citizens, we will create solutions that actually stick.\\n\\nThe people in this room are immensely privileged – we owe it to society to use this privilege for good.\\n\\nWe should ask ourselves – do we want to live in a world where the wealthy hide in their gated enclaves, while those around them struggle?\\n\\nOr do we want to help create a world grounded in the notion of fairness?\\n\\nBecause right now, we are in real danger of leaving to our kids a world that is less fair than the one we inherited from our parents.\\n\\nAnd I know we can do so much better.\\n\\nProgress of any kind takes hard work.\\n\\nBut by thinking big, and working together, we will build a better world.\\n\\nThank you.\\n\""
      ]
     },
     "execution_count": 4,
     "metadata": {},
     "output_type": "execute_result"
    }
   ],
   "source": [
    "next(iter(dict.values()))"
   ]
  },
  {
   "cell_type": "markdown",
   "metadata": {},
   "source": [
    "### At this point we have a dictionary that has the names and speeches of the Presidents as key value pairs."
   ]
  },
  {
   "cell_type": "markdown",
   "metadata": {},
   "source": [
    "***"
   ]
  },
  {
   "cell_type": "markdown",
   "metadata": {},
   "source": [
    "### Now i want to have csv file from my dictionary, so i can save it as file and with pandas work on it ."
   ]
  },
  {
   "cell_type": "code",
   "execution_count": 5,
   "metadata": {},
   "outputs": [],
   "source": [
    "# We are going to change this to key: comedian, value: string format\n",
    "def combine_text(list_of_text):\n",
    "    '''Takes a list of text and combines them into one large chunk of text.'''\n",
    "    combined_text = ''.join(str(list_of_text))\n",
    "    return combined_text"
   ]
  },
  {
   "cell_type": "code",
   "execution_count": 6,
   "metadata": {},
   "outputs": [],
   "source": [
    "# Combine it!\n",
    "data_combined = {key: [combine_text(value)] for (key, value) in dict.items()}"
   ]
  },
  {
   "cell_type": "code",
   "execution_count": 7,
   "metadata": {},
   "outputs": [
    {
     "data": {
      "text/html": [
       "<div>\n",
       "<style scoped>\n",
       "    .dataframe tbody tr th:only-of-type {\n",
       "        vertical-align: middle;\n",
       "    }\n",
       "\n",
       "    .dataframe tbody tr th {\n",
       "        vertical-align: top;\n",
       "    }\n",
       "\n",
       "    .dataframe thead th {\n",
       "        text-align: right;\n",
       "    }\n",
       "</style>\n",
       "<table border=\"1\" class=\"dataframe\">\n",
       "  <thead>\n",
       "    <tr style=\"text-align: right;\">\n",
       "      <th></th>\n",
       "      <th>speeches</th>\n",
       "    </tr>\n",
       "  </thead>\n",
       "  <tbody>\n",
       "    <tr>\n",
       "      <th>Erdogan</th>\n",
       "      <td>I wholeheartedly greet our 81 provinces as well as sister and friendly capitals and cities of the world from Ankara, from the AK Party headquarter...</td>\n",
       "    </tr>\n",
       "    <tr>\n",
       "      <th>Macron</th>\n",
       "      <td>Dear friends,\\n\\nWe are here for this General Assembly, with the Secretary-General having chosen what is such an important topic, the climate, and...</td>\n",
       "    </tr>\n",
       "    <tr>\n",
       "      <th>Merkel</th>\n",
       "      <td>Ladies and gentlemen,\\n\\nNearly 50 years ago, Walter Hallstein, the former German Commission President, referred to European integration as an “en...</td>\n",
       "    </tr>\n",
       "    <tr>\n",
       "      <th>Nicolas_Maduro</th>\n",
       "      <td>Ambassadors, heads of delegations of the countries members of the United Nations Organization, President-elect of the General Assembly, Mrs. Maria...</td>\n",
       "    </tr>\n",
       "    <tr>\n",
       "      <th>Obama</th>\n",
       "      <td>\\nMy fellow citizens:\\n\\nI stand here today humbled by the task before us, grateful for the trust you have bestowed, mindful of the sacrifices bor...</td>\n",
       "    </tr>\n",
       "    <tr>\n",
       "      <th>Putin</th>\n",
       "      <td>Citizens of Russia, members of the Federation Council and State Duma,\\n\\nToday's Address is a very special landmark event, just as the times we ar...</td>\n",
       "    </tr>\n",
       "    <tr>\n",
       "      <th>Trudeau</th>\n",
       "      <td>Before I begin, it won’t surprise you that my remarks today will address the importance of progressive values in the context of globalization.\\n\\n...</td>\n",
       "    </tr>\n",
       "    <tr>\n",
       "      <th>Trump</th>\n",
       "      <td>\"Madam Speaker, Mr. Vice President, Members of Congress, the First Lady of the United States, and my fellow Americans:\\n\\nWe meet tonight at a mom...</td>\n",
       "    </tr>\n",
       "    <tr>\n",
       "      <th>Xi_Jinping</th>\n",
       "      <td>Ladies and Gentlemen,\\n\\nFriends,\\n\\nSeptember has just set in Beijing, bringing with it refreshing breeze and picturesque autumn scenery. And we ...</td>\n",
       "    </tr>\n",
       "    <tr>\n",
       "      <th>Yoshihide_Suga</th>\n",
       "      <td>I am truly delighted to meet you all, students of the Vietnam-Japan University (VJU), which is a symbol of human resource development projects bet...</td>\n",
       "    </tr>\n",
       "  </tbody>\n",
       "</table>\n",
       "</div>"
      ],
      "text/plain": [
       "                                                                                                                                                             speeches\n",
       "Erdogan         I wholeheartedly greet our 81 provinces as well as sister and friendly capitals and cities of the world from Ankara, from the AK Party headquarter...\n",
       "Macron          Dear friends,\\n\\nWe are here for this General Assembly, with the Secretary-General having chosen what is such an important topic, the climate, and...\n",
       "Merkel          Ladies and gentlemen,\\n\\nNearly 50 years ago, Walter Hallstein, the former German Commission President, referred to European integration as an “en...\n",
       "Nicolas_Maduro  Ambassadors, heads of delegations of the countries members of the United Nations Organization, President-elect of the General Assembly, Mrs. Maria...\n",
       "Obama           \\nMy fellow citizens:\\n\\nI stand here today humbled by the task before us, grateful for the trust you have bestowed, mindful of the sacrifices bor...\n",
       "Putin           Citizens of Russia, members of the Federation Council and State Duma,\\n\\nToday's Address is a very special landmark event, just as the times we ar...\n",
       "Trudeau         Before I begin, it won’t surprise you that my remarks today will address the importance of progressive values in the context of globalization.\\n\\n...\n",
       "Trump           \"Madam Speaker, Mr. Vice President, Members of Congress, the First Lady of the United States, and my fellow Americans:\\n\\nWe meet tonight at a mom...\n",
       "Xi_Jinping      Ladies and Gentlemen,\\n\\nFriends,\\n\\nSeptember has just set in Beijing, bringing with it refreshing breeze and picturesque autumn scenery. And we ...\n",
       "Yoshihide_Suga  I am truly delighted to meet you all, students of the Vietnam-Japan University (VJU), which is a symbol of human resource development projects bet..."
      ]
     },
     "execution_count": 7,
     "metadata": {},
     "output_type": "execute_result"
    }
   ],
   "source": [
    "# We can either keep it in dictionary format or put it into a pandas dataframe\n",
    "import pandas as pd\n",
    "pd.set_option('max_colwidth',150)\n",
    "\n",
    "data = pd.DataFrame.from_dict(data_combined).transpose()\n",
    "data.columns = ['speeches']\n",
    "data = data.sort_index()\n",
    "data"
   ]
  },
  {
   "cell_type": "code",
   "execution_count": 8,
   "metadata": {},
   "outputs": [
    {
     "data": {
      "text/plain": [
       "'Ladies and gentlemen,\\n\\nNearly 50 years ago, Walter Hallstein, the former German Commission President, referred to European integration as an “endeavour of unparalleled boldness”. The year was 1969, ten years before the first direct European elections took place. At the time, the European Community was still in its infancy. Many of our greatest accomplishments – Schengen, the single market and a single currency – were still mere visions. But the foundation had been laid. And with that, after centuries marked by wars and dictatorships, the citizens of Europe for the first time held out hope for a sustainable, peaceful and stable future.\\n\\nToday, I am pleased and grateful to be standing in front of the largest democratic parliament in the world. Together, you – 751 Members, elected in 28 member states – represent more than 500 million people. That is nearly seven percent of the world’s population. In your House, we can feel the heart of European democracy beating. The debates, which are held in 24 languages, are a sign of this. Your House also stands for another aspect of Europe, namely diversity. It is one of our great strengths as Europeans that we – time and again, and despite our diversity – have allowed ourselves to be guided by a willingness to compromise. Despite our different origins and opinions, we have so far always managed to arrive at solutions that benefit the community as a whole.\\n\\nMore than eleven years have passed since I first addressed this House. At the time, in 2007, Germany had assumed the Presidency of the Council of the European Union. In that speech, I spoke about diversity as a unifying, rather than dividing, factor, about freedom that constantly needs to be defended anew, and about Europe needing freedom the same way that people need air to breathe. I also talked about a fundamental value that characterises Europe – a value that brings freedom and diversity together in Europe. I spoke about tolerance. I spoke about how tolerance is the soul of Europe, about how it is an essential, fundamental value that defines European idea.\\n\\nOver the past eleven years, we have also seen how much the world has changed – how, if you will, Europe’s soul has been put to the test. Global political, economic and technological challenges are developing at an ever greater pace, and they are becoming more and more profound. We have lived through a great public debt crisis. The European Union has not been spared the scourge of international terrorism. Wars and armed conflict are taking place only a few hours by plane beyond our doorstep. Global refugee and migration flows are also having a direct impact on us Europeans. The advance of digital technology is changing our way of life at breakneck speed. We are feeling the effects of climate change. Old allies are calling tried and proven alliances into question. The United Kingdom will be the first country to exit the European Union. These days are marked by intensive negotiations, and we more than ever are getting a sense of how deep that impact will be. – I want to express my heartfelt thanks to Michel Barnier for his work.\\n\\nMembers of this esteemed House – why am I saying this? We all realise that predicting developments has become more difficult. But we also realise something else. The likelihood that interests can be asserted at global level by a single actor is steadily decreasing. Vice versa, this means it is becoming ever more important for us Europeans to take a united stance. For this, everyone in the European Union must now more than ever show respect for others and their interests. We must now more than ever have a common understanding that tolerance is the soul of Europe, that it is a key part of what makes us European, and that only through tolerance can we develop a willingness to consider, and fully identify with, the needs and interests of others. This will help us forge true European solidarity, without which successful action is impossible. This solidarity is built on tolerance. It is the basis of our strength as Europeans. A strength that is unique in the world, for three reasons:\\n\\nFirstly, solidarity is a universal value. Standing up for one another is an essential prerequisite for every functioning society. This holds true for families, villages and sports associations, as it does for a community such as the European Union. Solidarity is a fundamental component of the European treaties. It is an indispensable part of our system of values. Solidarity is encoded in our European DNA. We support countries and regions, by promoting their economic development or assisting efforts to combat youth unemployment. We help one another when natural disasters strike. When terrorist attacks or nuclear accidents occur, we stand by one another. During the European public debt crisis, we put together so-called rescue packages to help countries solve their economic and financial problems.\\n\\nThese few examples already show that the individual EU member states, and thereby also the citizens of the European Union, are not left in the lurch during tough times and crises. However, these few examples also show that national decisions always also have an effect on the entire community.\\n\\nTherefore, secondly, solidarity always means that everyone must bear responsibility for the community as a whole. Specifically, this means anyone who undermines rule-of-law principles in their own country, or who curtails rights of the opposition and civil society and restricts the freedom of the press, thereby jeopardises the rule of law not only in his or her own country, but for everyone in Europe. Europe as a community of law can of course only function when the law applies – and is respected – equally everywhere.\\n\\nAnyone who seeks to solve problems only by taking on new debt, or who ignores binding obligations, also calls into question the foundation of a strong and stable euro area. That is because our single currency can only function if every single member meets national obligations for sustainable finances. Anyone who undermines a unified European stance when interacting with third parties – regarding, for example, agreed sanctions or questions related to human rights – also undermines the credibility of European foreign policy as a whole. Because Europe will only make its voice heard in the world if it stands united. This means that showing solidarity always requires overcoming national egotisms.\\n\\nI am well aware that Germany has not always behaved well, and that at times others take issue with its behaviour. For example, in the years before 2015, it took us far too long, also in Germany, to accept that the refugee issue concerns all EU member states, and that it must be dealt with through a pan-European approach.\\n\\nFrom this it follows, thirdly, that solidarity that benefits all, also ultimately and rightly understood, means solidarity that is in everyone’s own best interest. Respecting and supporting others, on the one hand, and pursuing one’s own interests, on the other hand, are not contradictory. Quite the opposite is true. One example is our cooperation with African countries of origin in the sphere of refugees and migration. – The President addressed this just a moment ago. – This cooperation helps Europe, because it establishes more orderly, controlled and reduced movements of refugees and migrants to Europe. At the same time, it helps people in the countries of origin by improving their living conditions. We can also prevent them from embarking on what is often a perilous journey to Europe.\\n\\nAnother example is Europe’s commitment to worldwide climate protection. These efforts are an ecological and social necessity for protecting the resources on which life depends – also for everyone here in Europe. Europe benefits when industrialised and newly industrialising countries produce less greenhouse gasses, and when all of our economies become greener.\\n\\nWhat is more, all Europeans benefit when the euro area, too, develops harmoniously, becoming a haven of strength and stability. All Europeans benefit when everyone joins in European civil protection efforts. All Europeans benefit when we help those who are most severely affected by displacement and migration. It is a matter of tolerance that we respect the different reactions in the various member states when it comes to the question of taking in refugees – because each member state has its own history and demographic development. However, it is a matter of solidarity that we do everything in our power to find a common approach for tackling this and other challenges as a community.\\n\\nThese are hallmarks of Europe: solidarity as a universal, fundamental value; solidarity as a responsibility for the community; and solidarity in terms of one’s own rational interest.\\n\\nLadies and gentlemen, unity and common resolve are essential if Europe is to succeed. I therefore want to highlight three spheres that I think should be at the top of our agenda.\\n\\nFirstly, there is our foreign and security policy. We already now realise that we Europeans are much better able to defend our interests whenever we act in concert. Only by taking a united stance will Europe be strong enough to make its voice heard in the global arena and defend its values and interests. It’s simply true that the times when we could fully rely on others have ended. This means nothing other than that, if we Europeans want to survive as a community, we must make a greater effort to take our destiny into our own hands. This means that, in the long term, Europe must become more capable of taking foreign policy action. We must therefore be ready to rethink our decision-making processes, also by lifting the unanimity requirement wherever possible – that is, in areas where this is permitted by the treaties.\\n\\nI have proposed that we establish a European Security Council with rotating member state membership, in which important decisions could be more swiftly prepared. We need to create a fully capable, European military force for rapid deployment to affected regions in times of crisis. We have made great progress on permanent structured cooperation in the military domain. That is a good thing, and these efforts have received wide support here.\\n\\nYet – and I say this very deliberately in view of the developments in recent years – we ought to work on the vision of one day establishing a proper European army. Yes, that’s how things stand. Four years ago, Jean-Claude Juncker said: a joint EU army would show the world that there would never again be a war between EU countries. That would not be an army in competition with NATO – don’t misunderstand me – but it could be an effective complement to NATO. Nobody wants to call traditional alliances into question. But, ladies and gentlemen, it would then be much easier to cooperate with us. When, as is the case at the moment, we have more than 160 defence or weapons systems and the United States has only 50 or 60, when each country needs its own administration, support and training for everything, we are not an efficient partner. If we want to use our financial resources efficiently and are pursuing many of the same objectives, nothing speaks against us being colllectively represented in NATO with a European army. I don’t see any contradiction there at all.\\n\\nThat would then also involve ... (heckling from the floor) – I welcome that response. That doesn’t bother me. I’m used to parliament. –\\n\\nThat, incidentally, would also involve the joint development of weapons systems within Europe. And it would also involve – this is a difficult task, also for the Federal Republic of Germany – developing a joint arms export policy, because otherwise we would not be able to present a united front in the world.\\n\\nSecondly, ladies and gentlemen, Europe’s economic success is a crucial factor. It forms the basis of our strength and determines whether our voice will even be heard in the world. Without economic clout, we will have no political influence either. I am delighted that Jean-Claude Juncker’s programme, the Investment Plan for Europe, has had a significant impact in recent years and that we have already launched 340 or 350 billion euros of investments out of a total volume of 500 billion euros envisaged by 2020. That is a good programme to boost investment. I am aware of how often there have been calls for more investment, particularly from you in the European Parliament. That has now been set in motion. But we ought to discuss the issue again in due course. For, ladies and gentlemen, 340 billion euros is not peanuts, but a tangible contribution to greater prosperity in Europe.\\n\\nIt goes without saying that a stable and prosperous Europe also requires a stable economic and monetary union. We intend to continue to develop the European Stability Mechanism. We are working on the banking union. We are working on a eurozone budget, a concept proposed by Germany and France. In my opinion, that should be dovetailed very closely with the medium-term financial perspective. We are also advocating that liability and control go hand in hand. That means that a banking union and ultimately a European deposit guarantee system are dependent on the prior reduction of risks in the individual countries. The two are interconnected. European solidarity and individual responsibility are always two sides of the same coin. As the European Council – Germany and France at least are certainly working to achieve this – we will have tangible results to show by December.\\n\\nWe will also make progress on one issue that is currently being discussed in great depth and in which you, too are heavily involved – digital taxation. The question for Germany is not whether we have to implement digital taxation – that goes without saying in the digital age – our question is how to proceed. I think it is one of the rules of good democratic behaviour that we take note of the Commission’s proposals but can also supplement them. We believe that the best option in an international context would be to find an international solution. We advocate minimal taxation. But if that doesn’t work, we can’t afford to wait until doomsday, but should take a Europe-wide approach. And that, ladies and gentlemen, is what Germany is working to achieve.\\n\\nIf we are honest, when we look to the future and stop to think about our prosperity, we have to accept that the major innovations now no longer always or usually come from Europe, as was the case 100 years ago and 130 years ago. Today, a large proportion of ground-breaking innovations come from Asia and from the United States. That of course begs the question: Will we dictate the form of the mobility of the future on the continent which once invented the car? It bothers me, for example, that we aren’t able to manufacture battery cells. The fact that Chinese enterprises are now investing in Germany is okay. But I think we ought to make a great effort to ensure that in Europe we are also in a position to master a drive technology of the future and to make the production of battery cells possible here, too. We have the European instruments to achieve this. We have all that at our disposal – as we already do with chips today.\\n\\nWe need to be among the leaders in quantum computers. We need to develop a joint strategy for artificial intelligence. All this is still possible, because we have a strong industrial basis in Europe. We can build on this, and we now need to make use of it. Research and innovation are therefore central factors in our future prosperity.\\n\\nLadies and gentlemen, the third issue I want to raise is the topic of refugees and migration. During the euro crisis, we had many obstacles to overcome in order to reach a joint solution, but we succeeded. But on the issue of refugees and migration, Europe is not yet as united as I would like. As this is a central issue which concerns relations with our neighbourhood, we need to find common approaches here.\\n\\nWe have indeed made progress. We all agree that we need common European border management. With hindsight I will say that it was no doubt somewhat careless to create a Schengen area of free movement but only now to work on compiling entry and exit records in order to confirm who is in our country and who is leaving. Nonetheless, it is right that we are doing so now. It is right that we are developing Frontex. In my view, the Commission proposals are good. Here, too, the important point is this: If every country wants to retain its national competence and nobody wants to hand over any responsibility to the European border guards, no matter how extensive and how competent they are, they will not be able to do their job. In this area, too, we need to forego our national competences to some degree and work together.\\n\\nWe also need to consider how we can best share the workload with regard to development assistance, development cooperation and economic development in Africa. We are now seeing outstanding results – that wouldn’t have been possible two or three years ago – when individual member states work in cooperation with the Commission in specific African countries and thereby achieve so much more than if we all headed off there to do our own thing. Yet we have a great deal more to learn in this area. Nonetheless, I believe we are moving in the right direction.\\n\\nAnother priority needs to be for us to develop a common European asylum procedure. If every country makes decisions based on different criteria, the people affected are aware of this and then it is no wonder that secondary movement takes place within the Schengen area. It is vital that just as we are developing a common level playing field for the internal market, we make the effort to develop common standards also on such sensitive issues as asylum law and humanitarian responsibility. Otherwise we will not be able to handle the task with which refugees and migration confront us.\\n\\nLadies and gentlemen, those were just three examples of many. The protests show that I have hit the mark. That is good, and I am honoured. I believe that people want Europe to tackle the very issues that are uppermost in their minds. People want a Europe that provides answers to their burning questions. That doesn’t mean that Europe has to have a finger in every pie, as it were. It is still the case that not every problem in Europe is a problem for Europe. Solidarity does not mean omnipresence. But solidarity does mean that Europe engages itself where it is needed and that it is then able to act firmly, decisively and effectively.\\n\\nI am convinced that Europe is our best chance for lasting peace, lasting prosperity and a secure future. Our gathering in Paris at the invitation of the French President to remember the brutalities of the First World War 100 years ago ought to have reminded us once again what happens when nations have no respect for one another and what happens when alliances such as the League of Nations, which was founded in the wake of the First World War, fail. Even greater horrors followed. This is why we cannot afford to squander this European opportunity. We owe that to ourselves, we owe it to generations past, and we owe it to future generations. That means that nationalism and egoism must never again be allowed to gain a foothold in Europe. Rather, tolerance and solidarity are our common future. Ladies and gentlemen, that is something absolutely worth striving for.\\n\\nThank you very much.\\n'"
      ]
     },
     "execution_count": 8,
     "metadata": {},
     "output_type": "execute_result"
    }
   ],
   "source": [
    "# Let's take a look at an example speech\n",
    "data.speeches.loc['Merkel']"
   ]
  },
  {
   "cell_type": "markdown",
   "metadata": {},
   "source": [
    "***"
   ]
  },
  {
   "cell_type": "markdown",
   "metadata": {},
   "source": [
    "### In this step i want to clean data by using regular expressions in order to take optimal result."
   ]
  },
  {
   "cell_type": "code",
   "execution_count": 11,
   "metadata": {},
   "outputs": [],
   "source": [
    "# Apply text cleaning techniques with re\n",
    "import re\n",
    "import string\n",
    "\n",
    "def clean_data(speech):\n",
    "    # Make text lowercase\n",
    "    speech = speech.lower() \n",
    "    \n",
    "    # remove text in square brackets\n",
    "    speech = re.sub('\\[.*?\\]', '', speech) \n",
    "    \n",
    "    # remove punctuation\n",
    "    speech = re.sub('[%s]' % re.escape(string.punctuation), '', speech) \n",
    "    \n",
    "    # remove words containing numbers\n",
    "    speech = re.sub('\\w*\\d\\w*', '', speech)\n",
    "    \n",
    "    # Get rid of some additional punctuation\n",
    "    speech = re.sub('[‘’“”…]', '', speech)\n",
    "    \n",
    "    # at last get rid of remaining non-sensical text.\n",
    "    speech = re.sub('[\\n]', ' ', speech) \n",
    "    \n",
    "    return speech\n",
    "\n",
    "clearance = lambda x: clean_data(x)"
   ]
  },
  {
   "cell_type": "code",
   "execution_count": 12,
   "metadata": {},
   "outputs": [
    {
     "data": {
      "text/html": [
       "<div>\n",
       "<style scoped>\n",
       "    .dataframe tbody tr th:only-of-type {\n",
       "        vertical-align: middle;\n",
       "    }\n",
       "\n",
       "    .dataframe tbody tr th {\n",
       "        vertical-align: top;\n",
       "    }\n",
       "\n",
       "    .dataframe thead th {\n",
       "        text-align: right;\n",
       "    }\n",
       "</style>\n",
       "<table border=\"1\" class=\"dataframe\">\n",
       "  <thead>\n",
       "    <tr style=\"text-align: right;\">\n",
       "      <th></th>\n",
       "      <th>speeches</th>\n",
       "    </tr>\n",
       "  </thead>\n",
       "  <tbody>\n",
       "    <tr>\n",
       "      <th>Erdogan</th>\n",
       "      <td>i wholeheartedly greet our  provinces as well as sister and friendly capitals and cities of the world from ankara from the ak party headquarters i...</td>\n",
       "    </tr>\n",
       "    <tr>\n",
       "      <th>Macron</th>\n",
       "      <td>dear friends  we are here for this general assembly with the secretarygeneral having chosen what is such an important topic the climate and we had...</td>\n",
       "    </tr>\n",
       "    <tr>\n",
       "      <th>Merkel</th>\n",
       "      <td>ladies and gentlemen  nearly  years ago walter hallstein the former german commission president referred to european integration as an endeavour o...</td>\n",
       "    </tr>\n",
       "    <tr>\n",
       "      <th>Nicolas_Maduro</th>\n",
       "      <td>ambassadors heads of delegations of the countries members of the united nations organization presidentelect of the general assembly mrs maria fern...</td>\n",
       "    </tr>\n",
       "    <tr>\n",
       "      <th>Obama</th>\n",
       "      <td>my fellow citizens  i stand here today humbled by the task before us grateful for the trust you have bestowed mindful of the sacrifices borne by ...</td>\n",
       "    </tr>\n",
       "    <tr>\n",
       "      <th>Putin</th>\n",
       "      <td>citizens of russia members of the federation council and state duma  todays address is a very special landmark event just as the times we are livi...</td>\n",
       "    </tr>\n",
       "    <tr>\n",
       "      <th>Trudeau</th>\n",
       "      <td>before i begin it wont surprise you that my remarks today will address the importance of progressive values in the context of globalization  on th...</td>\n",
       "    </tr>\n",
       "    <tr>\n",
       "      <th>Trump</th>\n",
       "      <td>madam speaker mr vice president members of congress the first lady of the united states and my fellow americans  we meet tonight at a moment of un...</td>\n",
       "    </tr>\n",
       "    <tr>\n",
       "      <th>Xi_Jinping</th>\n",
       "      <td>ladies and gentlemen  friends  september has just set in beijing bringing with it refreshing breeze and picturesque autumn scenery and we are so d...</td>\n",
       "    </tr>\n",
       "    <tr>\n",
       "      <th>Yoshihide_Suga</th>\n",
       "      <td>i am truly delighted to meet you all students of the vietnamjapan university vju which is a symbol of human resource development projects between ...</td>\n",
       "    </tr>\n",
       "  </tbody>\n",
       "</table>\n",
       "</div>"
      ],
      "text/plain": [
       "                                                                                                                                                             speeches\n",
       "Erdogan         i wholeheartedly greet our  provinces as well as sister and friendly capitals and cities of the world from ankara from the ak party headquarters i...\n",
       "Macron          dear friends  we are here for this general assembly with the secretarygeneral having chosen what is such an important topic the climate and we had...\n",
       "Merkel          ladies and gentlemen  nearly  years ago walter hallstein the former german commission president referred to european integration as an endeavour o...\n",
       "Nicolas_Maduro  ambassadors heads of delegations of the countries members of the united nations organization presidentelect of the general assembly mrs maria fern...\n",
       "Obama            my fellow citizens  i stand here today humbled by the task before us grateful for the trust you have bestowed mindful of the sacrifices borne by ...\n",
       "Putin           citizens of russia members of the federation council and state duma  todays address is a very special landmark event just as the times we are livi...\n",
       "Trudeau         before i begin it wont surprise you that my remarks today will address the importance of progressive values in the context of globalization  on th...\n",
       "Trump           madam speaker mr vice president members of congress the first lady of the united states and my fellow americans  we meet tonight at a moment of un...\n",
       "Xi_Jinping      ladies and gentlemen  friends  september has just set in beijing bringing with it refreshing breeze and picturesque autumn scenery and we are so d...\n",
       "Yoshihide_Suga  i am truly delighted to meet you all students of the vietnamjapan university vju which is a symbol of human resource development projects between ..."
      ]
     },
     "execution_count": 12,
     "metadata": {},
     "output_type": "execute_result"
    }
   ],
   "source": [
    "# Let's take a look at the new cleaned version of text\n",
    "cleaned = pd.DataFrame(data.speeches.apply(clearance))\n",
    "cleaned"
   ]
  },
  {
   "cell_type": "code",
   "execution_count": 14,
   "metadata": {},
   "outputs": [
    {
     "data": {
      "text/plain": [
       "'ladies and gentlemen  nearly  years ago walter hallstein the former german commission president referred to european integration as an endeavour of unparalleled boldness the year was  ten years before the first direct european elections took place at the time the european community was still in its infancy many of our greatest accomplishments – schengen the single market and a single currency – were still mere visions but the foundation had been laid and with that after centuries marked by wars and dictatorships the citizens of europe for the first time held out hope for a sustainable peaceful and stable future  today i am pleased and grateful to be standing in front of the largest democratic parliament in the world together you –  members elected in  member states – represent more than  million people that is nearly seven percent of the worlds population in your house we can feel the heart of european democracy beating the debates which are held in  languages are a sign of this your house also stands for another aspect of europe namely diversity it is one of our great strengths as europeans that we – time and again and despite our diversity – have allowed ourselves to be guided by a willingness to compromise despite our different origins and opinions we have so far always managed to arrive at solutions that benefit the community as a whole  more than eleven years have passed since i first addressed this house at the time in  germany had assumed the presidency of the council of the european union in that speech i spoke about diversity as a unifying rather than dividing factor about freedom that constantly needs to be defended anew and about europe needing freedom the same way that people need air to breathe i also talked about a fundamental value that characterises europe – a value that brings freedom and diversity together in europe i spoke about tolerance i spoke about how tolerance is the soul of europe about how it is an essential fundamental value that defines european idea  over the past eleven years we have also seen how much the world has changed – how if you will europes soul has been put to the test global political economic and technological challenges are developing at an ever greater pace and they are becoming more and more profound we have lived through a great public debt crisis the european union has not been spared the scourge of international terrorism wars and armed conflict are taking place only a few hours by plane beyond our doorstep global refugee and migration flows are also having a direct impact on us europeans the advance of digital technology is changing our way of life at breakneck speed we are feeling the effects of climate change old allies are calling tried and proven alliances into question the united kingdom will be the first country to exit the european union these days are marked by intensive negotiations and we more than ever are getting a sense of how deep that impact will be – i want to express my heartfelt thanks to michel barnier for his work  members of this esteemed house – why am i saying this we all realise that predicting developments has become more difficult but we also realise something else the likelihood that interests can be asserted at global level by a single actor is steadily decreasing vice versa this means it is becoming ever more important for us europeans to take a united stance for this everyone in the european union must now more than ever show respect for others and their interests we must now more than ever have a common understanding that tolerance is the soul of europe that it is a key part of what makes us european and that only through tolerance can we develop a willingness to consider and fully identify with the needs and interests of others this will help us forge true european solidarity without which successful action is impossible this solidarity is built on tolerance it is the basis of our strength as europeans a strength that is unique in the world for three reasons  firstly solidarity is a universal value standing up for one another is an essential prerequisite for every functioning society this holds true for families villages and sports associations as it does for a community such as the european union solidarity is a fundamental component of the european treaties it is an indispensable part of our system of values solidarity is encoded in our european dna we support countries and regions by promoting their economic development or assisting efforts to combat youth unemployment we help one another when natural disasters strike when terrorist attacks or nuclear accidents occur we stand by one another during the european public debt crisis we put together socalled rescue packages to help countries solve their economic and financial problems  these few examples already show that the individual eu member states and thereby also the citizens of the european union are not left in the lurch during tough times and crises however these few examples also show that national decisions always also have an effect on the entire community  therefore secondly solidarity always means that everyone must bear responsibility for the community as a whole specifically this means anyone who undermines ruleoflaw principles in their own country or who curtails rights of the opposition and civil society and restricts the freedom of the press thereby jeopardises the rule of law not only in his or her own country but for everyone in europe europe as a community of law can of course only function when the law applies – and is respected – equally everywhere  anyone who seeks to solve problems only by taking on new debt or who ignores binding obligations also calls into question the foundation of a strong and stable euro area that is because our single currency can only function if every single member meets national obligations for sustainable finances anyone who undermines a unified european stance when interacting with third parties – regarding for example agreed sanctions or questions related to human rights – also undermines the credibility of european foreign policy as a whole because europe will only make its voice heard in the world if it stands united this means that showing solidarity always requires overcoming national egotisms  i am well aware that germany has not always behaved well and that at times others take issue with its behaviour for example in the years before  it took us far too long also in germany to accept that the refugee issue concerns all eu member states and that it must be dealt with through a paneuropean approach  from this it follows thirdly that solidarity that benefits all also ultimately and rightly understood means solidarity that is in everyones own best interest respecting and supporting others on the one hand and pursuing ones own interests on the other hand are not contradictory quite the opposite is true one example is our cooperation with african countries of origin in the sphere of refugees and migration – the president addressed this just a moment ago – this cooperation helps europe because it establishes more orderly controlled and reduced movements of refugees and migrants to europe at the same time it helps people in the countries of origin by improving their living conditions we can also prevent them from embarking on what is often a perilous journey to europe  another example is europes commitment to worldwide climate protection these efforts are an ecological and social necessity for protecting the resources on which life depends – also for everyone here in europe europe benefits when industrialised and newly industrialising countries produce less greenhouse gasses and when all of our economies become greener  what is more all europeans benefit when the euro area too develops harmoniously becoming a haven of strength and stability all europeans benefit when everyone joins in european civil protection efforts all europeans benefit when we help those who are most severely affected by displacement and migration it is a matter of tolerance that we respect the different reactions in the various member states when it comes to the question of taking in refugees – because each member state has its own history and demographic development however it is a matter of solidarity that we do everything in our power to find a common approach for tackling this and other challenges as a community  these are hallmarks of europe solidarity as a universal fundamental value solidarity as a responsibility for the community and solidarity in terms of ones own rational interest  ladies and gentlemen unity and common resolve are essential if europe is to succeed i therefore want to highlight three spheres that i think should be at the top of our agenda  firstly there is our foreign and security policy we already now realise that we europeans are much better able to defend our interests whenever we act in concert only by taking a united stance will europe be strong enough to make its voice heard in the global arena and defend its values and interests its simply true that the times when we could fully rely on others have ended this means nothing other than that if we europeans want to survive as a community we must make a greater effort to take our destiny into our own hands this means that in the long term europe must become more capable of taking foreign policy action we must therefore be ready to rethink our decisionmaking processes also by lifting the unanimity requirement wherever possible – that is in areas where this is permitted by the treaties  i have proposed that we establish a european security council with rotating member state membership in which important decisions could be more swiftly prepared we need to create a fully capable european military force for rapid deployment to affected regions in times of crisis we have made great progress on permanent structured cooperation in the military domain that is a good thing and these efforts have received wide support here  yet – and i say this very deliberately in view of the developments in recent years – we ought to work on the vision of one day establishing a proper european army yes thats how things stand four years ago jeanclaude juncker said a joint eu army would show the world that there would never again be a war between eu countries that would not be an army in competition with nato – dont misunderstand me – but it could be an effective complement to nato nobody wants to call traditional alliances into question but ladies and gentlemen it would then be much easier to cooperate with us when as is the case at the moment we have more than  defence or weapons systems and the united states has only  or  when each country needs its own administration support and training for everything we are not an efficient partner if we want to use our financial resources efficiently and are pursuing many of the same objectives nothing speaks against us being colllectively represented in nato with a european army i dont see any contradiction there at all  that would then also involve  heckling from the floor – i welcome that response that doesnt bother me im used to parliament –  that incidentally would also involve the joint development of weapons systems within europe and it would also involve – this is a difficult task also for the federal republic of germany – developing a joint arms export policy because otherwise we would not be able to present a united front in the world  secondly ladies and gentlemen europes economic success is a crucial factor it forms the basis of our strength and determines whether our voice will even be heard in the world without economic clout we will have no political influence either i am delighted that jeanclaude junckers programme the investment plan for europe has had a significant impact in recent years and that we have already launched  or  billion euros of investments out of a total volume of  billion euros envisaged by  that is a good programme to boost investment i am aware of how often there have been calls for more investment particularly from you in the european parliament that has now been set in motion but we ought to discuss the issue again in due course for ladies and gentlemen  billion euros is not peanuts but a tangible contribution to greater prosperity in europe  it goes without saying that a stable and prosperous europe also requires a stable economic and monetary union we intend to continue to develop the european stability mechanism we are working on the banking union we are working on a eurozone budget a concept proposed by germany and france in my opinion that should be dovetailed very closely with the mediumterm financial perspective we are also advocating that liability and control go hand in hand that means that a banking union and ultimately a european deposit guarantee system are dependent on the prior reduction of risks in the individual countries the two are interconnected european solidarity and individual responsibility are always two sides of the same coin as the european council – germany and france at least are certainly working to achieve this – we will have tangible results to show by december  we will also make progress on one issue that is currently being discussed in great depth and in which you too are heavily involved – digital taxation the question for germany is not whether we have to implement digital taxation – that goes without saying in the digital age – our question is how to proceed i think it is one of the rules of good democratic behaviour that we take note of the commissions proposals but can also supplement them we believe that the best option in an international context would be to find an international solution we advocate minimal taxation but if that doesnt work we cant afford to wait until doomsday but should take a europewide approach and that ladies and gentlemen is what germany is working to achieve  if we are honest when we look to the future and stop to think about our prosperity we have to accept that the major innovations now no longer always or usually come from europe as was the case  years ago and  years ago today a large proportion of groundbreaking innovations come from asia and from the united states that of course begs the question will we dictate the form of the mobility of the future on the continent which once invented the car it bothers me for example that we arent able to manufacture battery cells the fact that chinese enterprises are now investing in germany is okay but i think we ought to make a great effort to ensure that in europe we are also in a position to master a drive technology of the future and to make the production of battery cells possible here too we have the european instruments to achieve this we have all that at our disposal – as we already do with chips today  we need to be among the leaders in quantum computers we need to develop a joint strategy for artificial intelligence all this is still possible because we have a strong industrial basis in europe we can build on this and we now need to make use of it research and innovation are therefore central factors in our future prosperity  ladies and gentlemen the third issue i want to raise is the topic of refugees and migration during the euro crisis we had many obstacles to overcome in order to reach a joint solution but we succeeded but on the issue of refugees and migration europe is not yet as united as i would like as this is a central issue which concerns relations with our neighbourhood we need to find common approaches here  we have indeed made progress we all agree that we need common european border management with hindsight i will say that it was no doubt somewhat careless to create a schengen area of free movement but only now to work on compiling entry and exit records in order to confirm who is in our country and who is leaving nonetheless it is right that we are doing so now it is right that we are developing frontex in my view the commission proposals are good here too the important point is this if every country wants to retain its national competence and nobody wants to hand over any responsibility to the european border guards no matter how extensive and how competent they are they will not be able to do their job in this area too we need to forego our national competences to some degree and work together  we also need to consider how we can best share the workload with regard to development assistance development cooperation and economic development in africa we are now seeing outstanding results – that wouldnt have been possible two or three years ago – when individual member states work in cooperation with the commission in specific african countries and thereby achieve so much more than if we all headed off there to do our own thing yet we have a great deal more to learn in this area nonetheless i believe we are moving in the right direction  another priority needs to be for us to develop a common european asylum procedure if every country makes decisions based on different criteria the people affected are aware of this and then it is no wonder that secondary movement takes place within the schengen area it is vital that just as we are developing a common level playing field for the internal market we make the effort to develop common standards also on such sensitive issues as asylum law and humanitarian responsibility otherwise we will not be able to handle the task with which refugees and migration confront us  ladies and gentlemen those were just three examples of many the protests show that i have hit the mark that is good and i am honoured i believe that people want europe to tackle the very issues that are uppermost in their minds people want a europe that provides answers to their burning questions that doesnt mean that europe has to have a finger in every pie as it were it is still the case that not every problem in europe is a problem for europe solidarity does not mean omnipresence but solidarity does mean that europe engages itself where it is needed and that it is then able to act firmly decisively and effectively  i am convinced that europe is our best chance for lasting peace lasting prosperity and a secure future our gathering in paris at the invitation of the french president to remember the brutalities of the first world war  years ago ought to have reminded us once again what happens when nations have no respect for one another and what happens when alliances such as the league of nations which was founded in the wake of the first world war fail even greater horrors followed this is why we cannot afford to squander this european opportunity we owe that to ourselves we owe it to generations past and we owe it to future generations that means that nationalism and egoism must never again be allowed to gain a foothold in europe rather tolerance and solidarity are our common future ladies and gentlemen that is something absolutely worth striving for  thank you very much '"
      ]
     },
     "execution_count": 14,
     "metadata": {},
     "output_type": "execute_result"
    }
   ],
   "source": [
    "cleaned.speeches['Merkel']"
   ]
  },
  {
   "cell_type": "code",
   "execution_count": 15,
   "metadata": {},
   "outputs": [],
   "source": [
    "# Let's make cleaned data csv file for analyse later\n",
    "import csv\n",
    "cleaned.to_csv(\"corpus.csv\")"
   ]
  },
  {
   "cell_type": "markdown",
   "metadata": {},
   "source": [
    "### Word Matrix of Speeches\n",
    "\n",
    "Be able to analyse speeches i want to in this step 'Tokenize' all words.\n",
    "\n",
    "We can do this using scikit-learn's CountVectorizer, where every row will represent a different document and every column will represent a different word.\n",
    "\n",
    "In addition, with CountVectorizer, we can remove stop words. Stop words are common words that add no additional meaning to text such as 'a', 'the', etc."
   ]
  },
  {
   "cell_type": "code",
   "execution_count": 17,
   "metadata": {},
   "outputs": [
    {
     "data": {
      "text/html": [
       "<div>\n",
       "<style scoped>\n",
       "    .dataframe tbody tr th:only-of-type {\n",
       "        vertical-align: middle;\n",
       "    }\n",
       "\n",
       "    .dataframe tbody tr th {\n",
       "        vertical-align: top;\n",
       "    }\n",
       "\n",
       "    .dataframe thead th {\n",
       "        text-align: right;\n",
       "    }\n",
       "</style>\n",
       "<table border=\"1\" class=\"dataframe\">\n",
       "  <thead>\n",
       "    <tr style=\"text-align: right;\">\n",
       "      <th></th>\n",
       "      <th>abandoned</th>\n",
       "      <th>abdullah</th>\n",
       "      <th>abe</th>\n",
       "      <th>ability</th>\n",
       "      <th>abject</th>\n",
       "      <th>abkhazians</th>\n",
       "      <th>able</th>\n",
       "      <th>abm</th>\n",
       "      <th>aboard</th>\n",
       "      <th>abolish</th>\n",
       "      <th>...</th>\n",
       "      <th>zelensky</th>\n",
       "      <th>zero</th>\n",
       "      <th>zone</th>\n",
       "      <th>zones</th>\n",
       "      <th>àtokio</th>\n",
       "      <th>ça</th>\n",
       "      <th>économique</th>\n",
       "      <th>ëapplied</th>\n",
       "      <th>ìgo</th>\n",
       "      <th>şah</th>\n",
       "    </tr>\n",
       "  </thead>\n",
       "  <tbody>\n",
       "    <tr>\n",
       "      <th>Erdogan</th>\n",
       "      <td>0</td>\n",
       "      <td>0</td>\n",
       "      <td>0</td>\n",
       "      <td>0</td>\n",
       "      <td>0</td>\n",
       "      <td>1</td>\n",
       "      <td>0</td>\n",
       "      <td>0</td>\n",
       "      <td>0</td>\n",
       "      <td>0</td>\n",
       "      <td>...</td>\n",
       "      <td>0</td>\n",
       "      <td>0</td>\n",
       "      <td>0</td>\n",
       "      <td>0</td>\n",
       "      <td>0</td>\n",
       "      <td>0</td>\n",
       "      <td>0</td>\n",
       "      <td>0</td>\n",
       "      <td>0</td>\n",
       "      <td>1</td>\n",
       "    </tr>\n",
       "    <tr>\n",
       "      <th>Macron</th>\n",
       "      <td>0</td>\n",
       "      <td>1</td>\n",
       "      <td>0</td>\n",
       "      <td>1</td>\n",
       "      <td>0</td>\n",
       "      <td>0</td>\n",
       "      <td>4</td>\n",
       "      <td>0</td>\n",
       "      <td>0</td>\n",
       "      <td>0</td>\n",
       "      <td>...</td>\n",
       "      <td>1</td>\n",
       "      <td>2</td>\n",
       "      <td>0</td>\n",
       "      <td>0</td>\n",
       "      <td>0</td>\n",
       "      <td>0</td>\n",
       "      <td>0</td>\n",
       "      <td>0</td>\n",
       "      <td>0</td>\n",
       "      <td>0</td>\n",
       "    </tr>\n",
       "    <tr>\n",
       "      <th>Merkel</th>\n",
       "      <td>0</td>\n",
       "      <td>0</td>\n",
       "      <td>0</td>\n",
       "      <td>0</td>\n",
       "      <td>0</td>\n",
       "      <td>0</td>\n",
       "      <td>6</td>\n",
       "      <td>0</td>\n",
       "      <td>0</td>\n",
       "      <td>0</td>\n",
       "      <td>...</td>\n",
       "      <td>0</td>\n",
       "      <td>0</td>\n",
       "      <td>0</td>\n",
       "      <td>0</td>\n",
       "      <td>0</td>\n",
       "      <td>0</td>\n",
       "      <td>0</td>\n",
       "      <td>0</td>\n",
       "      <td>0</td>\n",
       "      <td>0</td>\n",
       "    </tr>\n",
       "    <tr>\n",
       "      <th>Nicolas_Maduro</th>\n",
       "      <td>1</td>\n",
       "      <td>0</td>\n",
       "      <td>0</td>\n",
       "      <td>0</td>\n",
       "      <td>0</td>\n",
       "      <td>0</td>\n",
       "      <td>1</td>\n",
       "      <td>0</td>\n",
       "      <td>0</td>\n",
       "      <td>0</td>\n",
       "      <td>...</td>\n",
       "      <td>0</td>\n",
       "      <td>0</td>\n",
       "      <td>0</td>\n",
       "      <td>0</td>\n",
       "      <td>0</td>\n",
       "      <td>0</td>\n",
       "      <td>0</td>\n",
       "      <td>0</td>\n",
       "      <td>0</td>\n",
       "      <td>0</td>\n",
       "    </tr>\n",
       "    <tr>\n",
       "      <th>Obama</th>\n",
       "      <td>1</td>\n",
       "      <td>0</td>\n",
       "      <td>0</td>\n",
       "      <td>1</td>\n",
       "      <td>0</td>\n",
       "      <td>0</td>\n",
       "      <td>0</td>\n",
       "      <td>0</td>\n",
       "      <td>0</td>\n",
       "      <td>0</td>\n",
       "      <td>...</td>\n",
       "      <td>0</td>\n",
       "      <td>0</td>\n",
       "      <td>0</td>\n",
       "      <td>0</td>\n",
       "      <td>0</td>\n",
       "      <td>0</td>\n",
       "      <td>0</td>\n",
       "      <td>0</td>\n",
       "      <td>0</td>\n",
       "      <td>0</td>\n",
       "    </tr>\n",
       "    <tr>\n",
       "      <th>Putin</th>\n",
       "      <td>0</td>\n",
       "      <td>0</td>\n",
       "      <td>0</td>\n",
       "      <td>3</td>\n",
       "      <td>0</td>\n",
       "      <td>0</td>\n",
       "      <td>8</td>\n",
       "      <td>3</td>\n",
       "      <td>0</td>\n",
       "      <td>0</td>\n",
       "      <td>...</td>\n",
       "      <td>0</td>\n",
       "      <td>0</td>\n",
       "      <td>1</td>\n",
       "      <td>0</td>\n",
       "      <td>0</td>\n",
       "      <td>0</td>\n",
       "      <td>0</td>\n",
       "      <td>1</td>\n",
       "      <td>1</td>\n",
       "      <td>0</td>\n",
       "    </tr>\n",
       "    <tr>\n",
       "      <th>Trudeau</th>\n",
       "      <td>0</td>\n",
       "      <td>0</td>\n",
       "      <td>1</td>\n",
       "      <td>0</td>\n",
       "      <td>0</td>\n",
       "      <td>0</td>\n",
       "      <td>0</td>\n",
       "      <td>0</td>\n",
       "      <td>0</td>\n",
       "      <td>0</td>\n",
       "      <td>...</td>\n",
       "      <td>0</td>\n",
       "      <td>0</td>\n",
       "      <td>0</td>\n",
       "      <td>0</td>\n",
       "      <td>1</td>\n",
       "      <td>1</td>\n",
       "      <td>2</td>\n",
       "      <td>0</td>\n",
       "      <td>0</td>\n",
       "      <td>0</td>\n",
       "    </tr>\n",
       "    <tr>\n",
       "      <th>Trump</th>\n",
       "      <td>0</td>\n",
       "      <td>0</td>\n",
       "      <td>0</td>\n",
       "      <td>0</td>\n",
       "      <td>1</td>\n",
       "      <td>0</td>\n",
       "      <td>3</td>\n",
       "      <td>0</td>\n",
       "      <td>0</td>\n",
       "      <td>1</td>\n",
       "      <td>...</td>\n",
       "      <td>0</td>\n",
       "      <td>0</td>\n",
       "      <td>0</td>\n",
       "      <td>0</td>\n",
       "      <td>0</td>\n",
       "      <td>0</td>\n",
       "      <td>0</td>\n",
       "      <td>0</td>\n",
       "      <td>0</td>\n",
       "      <td>0</td>\n",
       "    </tr>\n",
       "    <tr>\n",
       "      <th>Xi_Jinping</th>\n",
       "      <td>0</td>\n",
       "      <td>0</td>\n",
       "      <td>0</td>\n",
       "      <td>0</td>\n",
       "      <td>0</td>\n",
       "      <td>0</td>\n",
       "      <td>0</td>\n",
       "      <td>0</td>\n",
       "      <td>1</td>\n",
       "      <td>0</td>\n",
       "      <td>...</td>\n",
       "      <td>0</td>\n",
       "      <td>0</td>\n",
       "      <td>0</td>\n",
       "      <td>2</td>\n",
       "      <td>0</td>\n",
       "      <td>0</td>\n",
       "      <td>0</td>\n",
       "      <td>0</td>\n",
       "      <td>0</td>\n",
       "      <td>0</td>\n",
       "    </tr>\n",
       "    <tr>\n",
       "      <th>Yoshihide_Suga</th>\n",
       "      <td>0</td>\n",
       "      <td>0</td>\n",
       "      <td>3</td>\n",
       "      <td>1</td>\n",
       "      <td>0</td>\n",
       "      <td>0</td>\n",
       "      <td>2</td>\n",
       "      <td>0</td>\n",
       "      <td>0</td>\n",
       "      <td>0</td>\n",
       "      <td>...</td>\n",
       "      <td>0</td>\n",
       "      <td>1</td>\n",
       "      <td>0</td>\n",
       "      <td>0</td>\n",
       "      <td>0</td>\n",
       "      <td>0</td>\n",
       "      <td>0</td>\n",
       "      <td>0</td>\n",
       "      <td>0</td>\n",
       "      <td>0</td>\n",
       "    </tr>\n",
       "  </tbody>\n",
       "</table>\n",
       "<p>10 rows × 5564 columns</p>\n",
       "</div>"
      ],
      "text/plain": [
       "                abandoned  abdullah  abe  ability  abject  abkhazians  able  \\\n",
       "Erdogan                 0         0    0        0       0           1     0   \n",
       "Macron                  0         1    0        1       0           0     4   \n",
       "Merkel                  0         0    0        0       0           0     6   \n",
       "Nicolas_Maduro          1         0    0        0       0           0     1   \n",
       "Obama                   1         0    0        1       0           0     0   \n",
       "Putin                   0         0    0        3       0           0     8   \n",
       "Trudeau                 0         0    1        0       0           0     0   \n",
       "Trump                   0         0    0        0       1           0     3   \n",
       "Xi_Jinping              0         0    0        0       0           0     0   \n",
       "Yoshihide_Suga          0         0    3        1       0           0     2   \n",
       "\n",
       "                abm  aboard  abolish  ...  zelensky  zero  zone  zones  \\\n",
       "Erdogan           0       0        0  ...         0     0     0      0   \n",
       "Macron            0       0        0  ...         1     2     0      0   \n",
       "Merkel            0       0        0  ...         0     0     0      0   \n",
       "Nicolas_Maduro    0       0        0  ...         0     0     0      0   \n",
       "Obama             0       0        0  ...         0     0     0      0   \n",
       "Putin             3       0        0  ...         0     0     1      0   \n",
       "Trudeau           0       0        0  ...         0     0     0      0   \n",
       "Trump             0       0        1  ...         0     0     0      0   \n",
       "Xi_Jinping        0       1        0  ...         0     0     0      2   \n",
       "Yoshihide_Suga    0       0        0  ...         0     1     0      0   \n",
       "\n",
       "                àtokio  ça  économique  ëapplied  ìgo  şah  \n",
       "Erdogan              0   0           0         0    0    1  \n",
       "Macron               0   0           0         0    0    0  \n",
       "Merkel               0   0           0         0    0    0  \n",
       "Nicolas_Maduro       0   0           0         0    0    0  \n",
       "Obama                0   0           0         0    0    0  \n",
       "Putin                0   0           0         1    1    0  \n",
       "Trudeau              1   1           2         0    0    0  \n",
       "Trump                0   0           0         0    0    0  \n",
       "Xi_Jinping           0   0           0         0    0    0  \n",
       "Yoshihide_Suga       0   0           0         0    0    0  \n",
       "\n",
       "[10 rows x 5564 columns]"
      ]
     },
     "execution_count": 17,
     "metadata": {},
     "output_type": "execute_result"
    }
   ],
   "source": [
    "# We are going to create a word matrix using CountVectorizer, and exclude common English stop words\n",
    "from sklearn.feature_extraction.text import CountVectorizer\n",
    "\n",
    "cv = CountVectorizer(stop_words='english')\n",
    "data_cv = cv.fit_transform(cleaned.speeches)\n",
    "data_words = pd.DataFrame(data_cv.toarray(), columns=cv.get_feature_names())\n",
    "data_words.index = cleaned.index\n",
    "data_words"
   ]
  },
  {
   "cell_type": "code",
   "execution_count": 18,
   "metadata": {},
   "outputs": [],
   "source": [
    "# Let's make word matrix again csv file\n",
    "data_words.to_csv(\"data_words.csv\")"
   ]
  },
  {
   "cell_type": "code",
   "execution_count": null,
   "metadata": {},
   "outputs": [],
   "source": []
  }
 ],
 "metadata": {
  "kernelspec": {
   "display_name": "Python 3",
   "language": "python",
   "name": "python3"
  },
  "language_info": {
   "codemirror_mode": {
    "name": "ipython",
    "version": 3
   },
   "file_extension": ".py",
   "mimetype": "text/x-python",
   "name": "python",
   "nbconvert_exporter": "python",
   "pygments_lexer": "ipython3",
   "version": "3.8.3"
  }
 },
 "nbformat": 4,
 "nbformat_minor": 4
}
