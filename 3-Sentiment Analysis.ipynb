{
 "cells": [
  {
   "cell_type": "markdown",
   "metadata": {},
   "source": [
    "# 3- Sentiment Analysis"
   ]
  },
  {
   "cell_type": "markdown",
   "metadata": {},
   "source": [
    "**Sentiment analysis** (or **opinion mining**) is a **<a href=\"https://github.com/Tanerrr/Natural-Language-Processing\">natural language processing </a>** technique used to interpret and classify emotions in subjective data. Sentiment analysis is often performed on textual data to detect sentiment in emails, survey responses, social media data, and beyond."
   ]
  },
  {
   "cell_type": "markdown",
   "metadata": {},
   "source": [
    "Sentiment analysis is the process of detecting positive or negative sentiment in text. It’s often used by businesses to detect sentiment in social data, gauge brand reputation, and understand customers."
   ]
  },
  {
   "cell_type": "markdown",
   "metadata": {},
   "source": [
    "If you want to get more information about Sentiment Analysis, i can advice the article below.\n",
    "\n",
    "https://monkeylearn.com/sentiment-analysis/"
   ]
  },
  {
   "cell_type": "markdown",
   "metadata": {},
   "source": [
    "The analyzes we have done so far could also be done for numerical data. At this point, we should use 'Sentiment Analysis' techniques to draw meaningful conclusions from speech transcripts.Some important points for this;\n",
    "\n",
    "1. **TextBlob Module:** Linguistic researchers have labeled the sentiment of words based on their domain expertise. Sentiment of words can vary based on where it is in a sentence. The TextBlob module allows us to take advantage of these labels.\n",
    "2. **Sentiment Labels:** Each word in a corpus is labeled in terms of polarity and subjectivity (there are more labels as well, but we're going to ignore them for now). A corpus' sentiment is the average of these.\n",
    "   * **Polarity**: How positive or negative a word is. -1 is very negative. +1 is very positive.\n",
    "   * **Subjectivity**: How subjective, or opinionated a word is. 0 is fact. +1 is very much an opinion.\n",
    "\n"
   ]
  },
  {
   "cell_type": "code",
   "execution_count": 1,
   "metadata": {},
   "outputs": [
    {
     "data": {
      "text/html": [
       "<div>\n",
       "<style scoped>\n",
       "    .dataframe tbody tr th:only-of-type {\n",
       "        vertical-align: middle;\n",
       "    }\n",
       "\n",
       "    .dataframe tbody tr th {\n",
       "        vertical-align: top;\n",
       "    }\n",
       "\n",
       "    .dataframe thead th {\n",
       "        text-align: right;\n",
       "    }\n",
       "</style>\n",
       "<table border=\"1\" class=\"dataframe\">\n",
       "  <thead>\n",
       "    <tr style=\"text-align: right;\">\n",
       "      <th></th>\n",
       "      <th>speeches</th>\n",
       "    </tr>\n",
       "  </thead>\n",
       "  <tbody>\n",
       "    <tr>\n",
       "      <th>Erdogan</th>\n",
       "      <td>i wholeheartedly greet our  provinces as well ...</td>\n",
       "    </tr>\n",
       "    <tr>\n",
       "      <th>Macron</th>\n",
       "      <td>dear friends we are here for this general asse...</td>\n",
       "    </tr>\n",
       "    <tr>\n",
       "      <th>Merkel</th>\n",
       "      <td>ladies and gentlemen nearly  years ago walter ...</td>\n",
       "    </tr>\n",
       "    <tr>\n",
       "      <th>Nicolas_Maduro</th>\n",
       "      <td>ambassadors heads of delegations of the countr...</td>\n",
       "    </tr>\n",
       "    <tr>\n",
       "      <th>Obama</th>\n",
       "      <td>my fellow citizens i stand here today humbled ...</td>\n",
       "    </tr>\n",
       "    <tr>\n",
       "      <th>Putin</th>\n",
       "      <td>citizens of russia members of the federation c...</td>\n",
       "    </tr>\n",
       "    <tr>\n",
       "      <th>Trudeau</th>\n",
       "      <td>before i begin it wont surprise you that my re...</td>\n",
       "    </tr>\n",
       "    <tr>\n",
       "      <th>Trump</th>\n",
       "      <td>madam speaker mr vice president members of con...</td>\n",
       "    </tr>\n",
       "    <tr>\n",
       "      <th>Xi_Jinping</th>\n",
       "      <td>ladies and gentlemen friends september has jus...</td>\n",
       "    </tr>\n",
       "    <tr>\n",
       "      <th>Yoshihide_Suga</th>\n",
       "      <td>i am truly delighted to meet you all students ...</td>\n",
       "    </tr>\n",
       "  </tbody>\n",
       "</table>\n",
       "</div>"
      ],
      "text/plain": [
       "                                                         speeches\n",
       "Erdogan         i wholeheartedly greet our  provinces as well ...\n",
       "Macron          dear friends we are here for this general asse...\n",
       "Merkel          ladies and gentlemen nearly  years ago walter ...\n",
       "Nicolas_Maduro  ambassadors heads of delegations of the countr...\n",
       "Obama           my fellow citizens i stand here today humbled ...\n",
       "Putin           citizens of russia members of the federation c...\n",
       "Trudeau         before i begin it wont surprise you that my re...\n",
       "Trump           madam speaker mr vice president members of con...\n",
       "Xi_Jinping      ladies and gentlemen friends september has jus...\n",
       "Yoshihide_Suga  i am truly delighted to meet you all students ..."
      ]
     },
     "execution_count": 1,
     "metadata": {},
     "output_type": "execute_result"
    }
   ],
   "source": [
    "# We'll start by reading in the corpus, which preserves word order\n",
    "import pandas as pd\n",
    "\n",
    "data = pd.read_csv('corpus.csv', index_col=[0])\n",
    "data"
   ]
  },
  {
   "cell_type": "code",
   "execution_count": 2,
   "metadata": {},
   "outputs": [
    {
     "data": {
      "text/html": [
       "<div>\n",
       "<style scoped>\n",
       "    .dataframe tbody tr th:only-of-type {\n",
       "        vertical-align: middle;\n",
       "    }\n",
       "\n",
       "    .dataframe tbody tr th {\n",
       "        vertical-align: top;\n",
       "    }\n",
       "\n",
       "    .dataframe thead th {\n",
       "        text-align: right;\n",
       "    }\n",
       "</style>\n",
       "<table border=\"1\" class=\"dataframe\">\n",
       "  <thead>\n",
       "    <tr style=\"text-align: right;\">\n",
       "      <th></th>\n",
       "      <th>speeches</th>\n",
       "      <th>polarity</th>\n",
       "      <th>subjectivity</th>\n",
       "    </tr>\n",
       "  </thead>\n",
       "  <tbody>\n",
       "    <tr>\n",
       "      <th>Erdogan</th>\n",
       "      <td>i wholeheartedly greet our  provinces as well ...</td>\n",
       "      <td>0.203802</td>\n",
       "      <td>0.519249</td>\n",
       "    </tr>\n",
       "    <tr>\n",
       "      <th>Macron</th>\n",
       "      <td>dear friends we are here for this general asse...</td>\n",
       "      <td>0.140230</td>\n",
       "      <td>0.400197</td>\n",
       "    </tr>\n",
       "    <tr>\n",
       "      <th>Merkel</th>\n",
       "      <td>ladies and gentlemen nearly  years ago walter ...</td>\n",
       "      <td>0.149071</td>\n",
       "      <td>0.412992</td>\n",
       "    </tr>\n",
       "    <tr>\n",
       "      <th>Nicolas_Maduro</th>\n",
       "      <td>ambassadors heads of delegations of the countr...</td>\n",
       "      <td>0.102291</td>\n",
       "      <td>0.363904</td>\n",
       "    </tr>\n",
       "    <tr>\n",
       "      <th>Obama</th>\n",
       "      <td>my fellow citizens i stand here today humbled ...</td>\n",
       "      <td>0.076578</td>\n",
       "      <td>0.473290</td>\n",
       "    </tr>\n",
       "    <tr>\n",
       "      <th>Putin</th>\n",
       "      <td>citizens of russia members of the federation c...</td>\n",
       "      <td>0.118268</td>\n",
       "      <td>0.486168</td>\n",
       "    </tr>\n",
       "    <tr>\n",
       "      <th>Trudeau</th>\n",
       "      <td>before i begin it wont surprise you that my re...</td>\n",
       "      <td>0.152746</td>\n",
       "      <td>0.445812</td>\n",
       "    </tr>\n",
       "    <tr>\n",
       "      <th>Trump</th>\n",
       "      <td>madam speaker mr vice president members of con...</td>\n",
       "      <td>0.092275</td>\n",
       "      <td>0.445142</td>\n",
       "    </tr>\n",
       "    <tr>\n",
       "      <th>Xi_Jinping</th>\n",
       "      <td>ladies and gentlemen friends september has jus...</td>\n",
       "      <td>0.146719</td>\n",
       "      <td>0.374079</td>\n",
       "    </tr>\n",
       "    <tr>\n",
       "      <th>Yoshihide_Suga</th>\n",
       "      <td>i am truly delighted to meet you all students ...</td>\n",
       "      <td>0.103095</td>\n",
       "      <td>0.305509</td>\n",
       "    </tr>\n",
       "  </tbody>\n",
       "</table>\n",
       "</div>"
      ],
      "text/plain": [
       "                                                         speeches  polarity  \\\n",
       "Erdogan         i wholeheartedly greet our  provinces as well ...  0.203802   \n",
       "Macron          dear friends we are here for this general asse...  0.140230   \n",
       "Merkel          ladies and gentlemen nearly  years ago walter ...  0.149071   \n",
       "Nicolas_Maduro  ambassadors heads of delegations of the countr...  0.102291   \n",
       "Obama           my fellow citizens i stand here today humbled ...  0.076578   \n",
       "Putin           citizens of russia members of the federation c...  0.118268   \n",
       "Trudeau         before i begin it wont surprise you that my re...  0.152746   \n",
       "Trump           madam speaker mr vice president members of con...  0.092275   \n",
       "Xi_Jinping      ladies and gentlemen friends september has jus...  0.146719   \n",
       "Yoshihide_Suga  i am truly delighted to meet you all students ...  0.103095   \n",
       "\n",
       "                subjectivity  \n",
       "Erdogan             0.519249  \n",
       "Macron              0.400197  \n",
       "Merkel              0.412992  \n",
       "Nicolas_Maduro      0.363904  \n",
       "Obama               0.473290  \n",
       "Putin               0.486168  \n",
       "Trudeau             0.445812  \n",
       "Trump               0.445142  \n",
       "Xi_Jinping          0.374079  \n",
       "Yoshihide_Suga      0.305509  "
      ]
     },
     "execution_count": 2,
     "metadata": {},
     "output_type": "execute_result"
    }
   ],
   "source": [
    "# In order to find the polarity and subjectivity of each speech, create lambda functions.\n",
    "# # !python -m textblob.download_corpora\n",
    "from textblob import TextBlob\n",
    "\n",
    "pol = lambda x: TextBlob(x).sentiment.polarity\n",
    "sub = lambda x: TextBlob(x).sentiment.subjectivity\n",
    "\n",
    "data['polarity'] = data['speeches'].apply(pol)\n",
    "data['subjectivity'] = data['speeches'].apply(sub)\n",
    "data"
   ]
  },
  {
   "cell_type": "code",
   "execution_count": 42,
   "metadata": {},
   "outputs": [
    {
     "data": {
      "image/png": "[encoded data removed]",
      "text/plain": [
       "<Figure size 864x576 with 1 Axes>"
      ]
     },
     "metadata": {},
     "output_type": "display_data"
    }
   ],
   "source": [
    "# Let's plot the polarity and subjectivity values\n",
    "import matplotlib.pyplot as plt\n",
    "\n",
    "\n",
    "plt.style.use('seaborn')\n",
    "plt.rcParams['figure.figsize'] = [12, 8]\n",
    "\n",
    "for index, president in enumerate(data.index):\n",
    "    x = data.polarity.loc[president]\n",
    "    y = data.subjectivity.loc[president]\n",
    "    plt.scatter(x, y, edgecolor='black', c='green', linewidth=1, alpha=0.40)\n",
    "    plt.text(x+.001, y+.001, data.index[index], fontsize=14)\n",
    "    plt.xlim(0, .25)\n",
    "\n",
    "plt.title('Sentiment Analysis about speeches', fontsize=20)\n",
    "plt.xlabel('<-- Negative -------- Positive -->', fontsize=18)\n",
    "plt.ylabel('<-- Facts -------- Opinions -->', fontsize=18)\n",
    "plt.axhline(y=data.subjectivity.mean(axis = 0), xmin=0.0, xmax=1.0, linewidth='0.5', linestyle='-.', color='r')\n",
    "plt.axvline(x=data.polarity.mean(axis = 0), ymin=0.0, ymax=1, linewidth='0.5', linestyle='-.', color='r')\n",
    "\n",
    "plt.tight_layout()\n",
    "\n",
    "plt.show()\n"
   ]
  },
  {
   "cell_type": "markdown",
   "metadata": {},
   "source": []
  }
 ],
 "metadata": {
  "kernelspec": {
   "display_name": "Python 3",
   "language": "python",
   "name": "python3"
  },
  "language_info": {
   "codemirror_mode": {
    "name": "ipython",
    "version": 3
   },
   "file_extension": ".py",
   "mimetype": "text/x-python",
   "name": "python",
   "nbconvert_exporter": "python",
   "pygments_lexer": "ipython3",
   "version": "3.8.3"
  }
 },
 "nbformat": 4,
 "nbformat_minor": 4
}
